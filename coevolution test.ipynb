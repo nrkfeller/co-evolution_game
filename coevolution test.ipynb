{
 "cells": [
  {
   "cell_type": "code",
   "execution_count": 1,
   "metadata": {
    "collapsed": true
   },
   "outputs": [],
   "source": [
    "import random\n",
    "import names"
   ]
  },
  {
   "cell_type": "code",
   "execution_count": 79,
   "metadata": {
    "collapsed": false
   },
   "outputs": [],
   "source": [
    "class Predictor(object):\n",
    "    \"\"\"\n",
    "    The predictor attemps to guess what the generator will produce.\n",
    "    He gains a point if he predicts accurately and looses one if he doesn't\n",
    "    \"\"\"\n",
    "    def __init__(self):\n",
    "        self.name = names.get_full_name()\n",
    "        self.rules = []\n",
    "        self.scores = []\n",
    "        self.gameScore = 0\n",
    "        self.lastScore = 0\n",
    "        # make players start with some rules\n",
    "    \n",
    "    def getNewRule(self, possiblePreRules):\n",
    "        self.rules.append(random.choice(random.choice(possiblePreRules)) + '-' + str(random.randint(0,1)))\n",
    "        self.rules.sort(lambda x,y: cmp(len(y), len(x)))\n",
    "        #print self.rules\n",
    "    \n",
    "    def getLastScore(self):\n",
    "        if len(self.scores) > 2:\n",
    "            return self.scores[-2]\n",
    "        return 0\n",
    "    \n",
    "    def getCurrentScore(self):\n",
    "        if len(self.scores) > 1:\n",
    "            return self.scores[-1]\n",
    "        return 0\n",
    "        \n",
    "    def predict(self, generator):\n",
    "        #generator.sequence\n",
    "        \n",
    "        def areEquivalent(rs, gc):\n",
    "            rs = list(rs)\n",
    "            gc = list(gc)\n",
    "            for i in xrange(0,len(gc)):\n",
    "                if rs[i] == 'X':\n",
    "                    rs[i] = gc[i]\n",
    "            if rs == gc:\n",
    "                #print str(True),rs,gc\n",
    "                return True\n",
    "            #print str(False),rs,gc\n",
    "            return False\n",
    "                    \n",
    "        #print generator.sequence\n",
    "        for rule in self.rules:\n",
    "            ruleSeq = rule.split('-')\n",
    "            genChunk = generator.sequence[-len(ruleSeq[0]):]\n",
    "            if areEquivalent(ruleSeq[0], genChunk):\n",
    "                #print \"rule predicting\", ruleSeq[0], genChunk, ruleSeq[1]\n",
    "                return ruleSeq[1]\n",
    "        #print \"random predicted\"\n",
    "        return str(random.randint(0,1))\n",
    "    \n",
    "    def predictorWins(self):\n",
    "        self.gameScore += 1\n",
    "        \n",
    "    def newGame(self):\n",
    "        self.scores + [gameScore]\n",
    "        #self.lastScore = self.gameScore\n",
    "        self.gameScore = 0\n",
    "        \n",
    "    def mutate(self):\n",
    "        self.rules.append(random.choice(random.choice(possiblePreRules)) + '-' + str(random.randint(0,1)))\n",
    "        del self.rules[random.randint(1,len(self.rules))-1]\n",
    "        self.rules.sort(lambda x,y: cmp(len(y), len(x)))\n",
    "        \n",
    "    def crossover(self, secondParent):\n",
    "        firstHalf = self.rules[0:len(self.rules)]\n",
    "        secondHalf = secondParent.rules[len(secondParent.rules):]\n",
    "        self.rules = firstHalf + secondHalf\n",
    "        return self\n",
    "        \n",
    "                \n",
    "        \n",
    "    \n",
    "    \n",
    "def createAllPreRules(length):\n",
    "    def createAllBin(thelist, length):\n",
    "        if length == 0:\n",
    "            allpossibilities.append(thelist)\n",
    "        else:\n",
    "            if random.random() < 0.9:\n",
    "                createAllBin(thelist+'1', length-1)\n",
    "            else:\n",
    "                createAllBin(thelist+'X', length-1)\n",
    "            if random.random() < 0.9:\n",
    "                createAllBin(thelist+'0', length-1)\n",
    "            else:\n",
    "                createAllBin(thelist+'X', length-1)\n",
    "\n",
    "    allpossibilities = []\n",
    "\n",
    "    for i in range(1,length):\n",
    "        createAllBin('', i)\n",
    "\n",
    "    formatedpossibilities = []\n",
    "    for i in range(0,length-1):\n",
    "        formatedpossibilities.append([])\n",
    "    for i in allpossibilities:\n",
    "        formatedpossibilities[len(i)-1].append(i)\n",
    "\n",
    "    return formatedpossibilities\n",
    "\n",
    "possiblePreRules = createAllPreRules(10)"
   ]
  },
  {
   "cell_type": "code",
   "execution_count": 80,
   "metadata": {
    "collapsed": false
   },
   "outputs": [
    {
     "data": {
      "text/plain": [
       "'myPre = Predictor(\"bob\")\\nmyPre.getNewRule(possiblePreRules)\\nmyPre.getNewRule(possiblePreRules)\\nmyPre.getNewRule(possiblePreRules)\\nmyPre.getNewRule(possiblePreRules)\\nmyPre.getNewRule(possiblePreRules)\\nmyPre.getNewRule(possiblePreRules)\\nmyPre.getNewRule(possiblePreRules)\\nmyPre.getNewRule(possiblePreRules)\\nmyPre.getNewRule(possiblePreRules)\\nmyPre.getNewRule(possiblePreRules)\\nmyPre.getNewRule(possiblePreRules)\\nmyPre.getNewRule(possiblePreRules)'"
      ]
     },
     "execution_count": 80,
     "metadata": {},
     "output_type": "execute_result"
    }
   ],
   "source": [
    "\"\"\"myPre = Predictor(\"bob\")\n",
    "myPre.getNewRule(possiblePreRules)\n",
    "myPre.getNewRule(possiblePreRules)\n",
    "myPre.getNewRule(possiblePreRules)\n",
    "myPre.getNewRule(possiblePreRules)\n",
    "myPre.getNewRule(possiblePreRules)\n",
    "myPre.getNewRule(possiblePreRules)\n",
    "myPre.getNewRule(possiblePreRules)\n",
    "myPre.getNewRule(possiblePreRules)\n",
    "myPre.getNewRule(possiblePreRules)\n",
    "myPre.getNewRule(possiblePreRules)\n",
    "myPre.getNewRule(possiblePreRules)\n",
    "myPre.getNewRule(possiblePreRules)\"\"\""
   ]
  },
  {
   "cell_type": "code",
   "execution_count": 81,
   "metadata": {
    "collapsed": false
   },
   "outputs": [
    {
     "data": {
      "text/plain": [
       "'myPre.rules'"
      ]
     },
     "execution_count": 81,
     "metadata": {},
     "output_type": "execute_result"
    }
   ],
   "source": [
    "\"\"\"myPre.rules\"\"\""
   ]
  },
  {
   "cell_type": "code",
   "execution_count": 73,
   "metadata": {
    "collapsed": false
   },
   "outputs": [],
   "source": [
    "import random\n",
    "\n",
    "class Generator(object):\n",
    "    \"\"\"\n",
    "    The generator generates a string of 1's and 0's.\n",
    "    If the predictor has accurately predicted his next element he looses a point, and if not he gains one\n",
    "    \"\"\"\n",
    "    possibleRules = []\n",
    "    \n",
    "    def __init__(self):\n",
    "        self.name = names.get_full_name()\n",
    "        self.rules = []\n",
    "        self.sequence = ''\n",
    "        self.gameScore = 0\n",
    "        self.lastScore = 0\n",
    "        self.scores = []\n",
    "        \n",
    "    def generate(self):\n",
    "        \n",
    "        for rule in self.rules:\n",
    "            ruleSeq = rule.split('-')\n",
    "            if ruleSeq[0] == self.sequence[-len(ruleSeq):]:\n",
    "                #print \"rule generated\",rule\n",
    "                self.sequence += rule[1]\n",
    "                return rule[1]\n",
    "        nextItem = str(random.randint(0,1))\n",
    "        self.sequence += nextItem\n",
    "        #print \"random generated\", nextItem\n",
    "        return nextItem\n",
    "    \n",
    "    def getLastScore(self):\n",
    "        if len(self.scores) > 2:\n",
    "            return self.scores[-2]\n",
    "        return 0\n",
    "    \n",
    "    def getCurrentScore(self):\n",
    "        if len(self.scores) > 1:\n",
    "            return self.scores[-1]\n",
    "        return 0\n",
    "        \n",
    "    def getNewRule(self, possibleGenRules):\n",
    "        self.rules.append(random.choice(random.choice(possibleGenRules)) + '-' + str(random.randint(0,1)))\n",
    "        self.rules.sort(lambda x,y: cmp(len(y), len(x)))\n",
    "        #print self.rules\n",
    "        \n",
    "    def generatorWins(self):\n",
    "        self.gameScore += 1\n",
    "        \n",
    "    def newGame(self):\n",
    "        self.scores + [gameScore]\n",
    "        #self.lastScore = self.gameScore\n",
    "        self.gameScore = 0\n",
    "        \n",
    "    def mutate(self):\n",
    "        self.rules.append(random.choice(random.choice(possibleGenRules)) + '-' + str(random.randint(0,1)))\n",
    "        del self.rules[random.randint(1, len(self.rules))-1]\n",
    "        self.rules.sort(lambda x,y: cmp(len(y), len(x)))\n",
    "        \n",
    "    def crossover(self, secondParent):\n",
    "        firstHalf = self.rules[0:len(self.rules)]\n",
    "        secondHalf = secondParent.rules[len(secondParent.rules):]\n",
    "        self.rules = firstHalf + secondHalf\n",
    "        return self\n",
    "        \n",
    "            \n",
    "def createAllGenRules(length):\n",
    "    def createAllBin(thelist, length):\n",
    "        if length == 0:\n",
    "            allpossibilities.append(thelist)\n",
    "        else:\n",
    "            createAllBin(thelist+'1', length-1)\n",
    "            createAllBin(thelist+'0', length-1)\n",
    "\n",
    "    allpossibilities = []\n",
    "\n",
    "    for i in range(1,length):\n",
    "        createAllBin('', i)\n",
    "\n",
    "    formatedpossibilities = []\n",
    "    for i in range(0,length-1):\n",
    "        formatedpossibilities.append([])\n",
    "    for i in allpossibilities:\n",
    "        formatedpossibilities[len(i)-1].append(i)\n",
    "\n",
    "    return formatedpossibilities\n",
    "\n",
    "possibleGenRules = createAllGenRules(10)\n",
    "    \n"
   ]
  },
  {
   "cell_type": "code",
   "execution_count": 46,
   "metadata": {
    "collapsed": false
   },
   "outputs": [
    {
     "data": {
      "text/plain": [
       "'myGen = Generator(\"nick\")\\nmyGen.getNewRule(possibleGenRules)\\nmyGen.getNewRule(possibleGenRules)\\nmyGen.getNewRule(possibleGenRules)\\nmyGen.getNewRule(possibleGenRules)\\nmyGen.getNewRule(possibleGenRules)\\nmyGen.getNewRule(possibleGenRules)\\nmyGen.getNewRule(possibleGenRules)\\nmyGen.getNewRule(possibleGenRules)\\nmyGen.getNewRule(possibleGenRules)\\nmyGen.getNewRule(possibleGenRules)\\nmyGen.getNewRule(possibleGenRules)\\nmyGen.getNewRule(possibleGenRules)\\nmyGen.getNewRule(possibleGenRules)\\nmyGen.getNewRule(possibleGenRules)\\nmyGen.getNewRule(possibleGenRules)\\nmyGen.getNewRule(possibleGenRules)\\nmyGen.rules'"
      ]
     },
     "execution_count": 46,
     "metadata": {},
     "output_type": "execute_result"
    }
   ],
   "source": [
    "\"\"\"myGen = Generator(\"nick\")\n",
    "myGen.getNewRule(possibleGenRules)\n",
    "myGen.getNewRule(possibleGenRules)\n",
    "myGen.getNewRule(possibleGenRules)\n",
    "myGen.getNewRule(possibleGenRules)\n",
    "myGen.getNewRule(possibleGenRules)\n",
    "myGen.getNewRule(possibleGenRules)\n",
    "myGen.getNewRule(possibleGenRules)\n",
    "myGen.getNewRule(possibleGenRules)\n",
    "myGen.getNewRule(possibleGenRules)\n",
    "myGen.getNewRule(possibleGenRules)\n",
    "myGen.getNewRule(possibleGenRules)\n",
    "myGen.getNewRule(possibleGenRules)\n",
    "myGen.getNewRule(possibleGenRules)\n",
    "myGen.getNewRule(possibleGenRules)\n",
    "myGen.getNewRule(possibleGenRules)\n",
    "myGen.getNewRule(possibleGenRules)\n",
    "myGen.rules\"\"\""
   ]
  },
  {
   "cell_type": "code",
   "execution_count": 47,
   "metadata": {
    "collapsed": false
   },
   "outputs": [
    {
     "data": {
      "text/plain": [
       "'\\nfor i in xrange(10):\\n    prediction = myPre.predict(myGen)\\n    generated = myGen.generate()\\n    print \"choices\", prediction, generated\\n    if prediction == generated:\\n        print \"p wins\"\\n    else:\\n        print \"g wins\"\\n\\nprint myGen.sequence'"
      ]
     },
     "execution_count": 47,
     "metadata": {},
     "output_type": "execute_result"
    }
   ],
   "source": [
    "\"\"\"\n",
    "for i in xrange(10):\n",
    "    prediction = myPre.predict(myGen)\n",
    "    generated = myGen.generate()\n",
    "    print \"choices\", prediction, generated\n",
    "    if prediction == generated:\n",
    "        print \"p wins\"\n",
    "    else:\n",
    "        print \"g wins\"\n",
    "\n",
    "print myGen.sequence\"\"\""
   ]
  },
  {
   "cell_type": "code",
   "execution_count": 108,
   "metadata": {
    "collapsed": false
   },
   "outputs": [],
   "source": [
    "def playGame(numberOfPlayers, numOfGenerations):\n",
    "    predictionTeam = []\n",
    "    generationTeam = []\n",
    "    \n",
    "    genchampfitness = []\n",
    "    prechampfitness = []\n",
    "    \n",
    "    genAvgfitness = []\n",
    "    preAvgfitness = []\n",
    "    \n",
    "    for i in range(numberOfPlayers):\n",
    "        newPred = Predictor()\n",
    "        newGen = Generator()\n",
    "        predictionTeam.append(newPred)\n",
    "        generationTeam.append(newGen)\n",
    "    PreChamp = random.choice(predictionTeam)\n",
    "    GenChamp = random.choice(generationTeam)\n",
    "    \n",
    "    for generation in xrange(0, numOfGenerations):\n",
    "        for move in xrange(0,100):\n",
    "            championPrediction = PreChamp.predict(GenChamp)\n",
    "            championGeneration = GenChamp.generate()\n",
    "            for predPlayer in predictionTeam:\n",
    "                playerPrediction = predPlayer.predict(GenChamp)\n",
    "                if playerPrediction == championGeneration:\n",
    "                    predPlayer.predictorWins()\n",
    "            for genPlayer in generationTeam:\n",
    "                playerGeneration = genPlayer.generate()\n",
    "                if playerGeneration != championPrediction:\n",
    "                    genPlayer.generatorWins()\n",
    "\n",
    "        predictionTeam = sorted(predictionTeam, key=lambda player: fitness(player) , reverse = True)\n",
    "        generationTeam = sorted(generationTeam, key=lambda player: fitness(player) , reverse = True)\n",
    "        \n",
    "        \n",
    "        #for i in predictionTeam:\n",
    "        #    print i\n",
    "        \n",
    "        PreChamp = predictionTeam[0]\n",
    "        GenChamp = generationTeam[0]\n",
    "\n",
    "        for i in xrange(1, int(numberOfPlayers/2)):\n",
    "            predictionTeam[i].mutate()\n",
    "            generationTeam[i].mutate()\n",
    "\n",
    "        predictorsToXover = predictionTeam[int(numberOfPlayers/2):numberOfPlayers]\n",
    "        generatorsToXover = generationTeam[int(numberOfPlayers/2):numberOfPlayers]\n",
    "        for i in xrange(int(numberOfPlayers/2), numberOfPlayers):\n",
    "            predictionTeam[i] = random.choice(predictorsToXover).crossover(random.choice(predictorsToXover))\n",
    "            generationTeam[i] = random.choice(generatorsToXover).crossover(random.choice(generatorsToXover))\n",
    "\n",
    "        genchampfitness.append(fitness(PreChamp))\n",
    "        prechampfitness.append(fitness(GenChamp))\n",
    "        \n",
    "        #add average fitness\n",
    "        \n",
    "        genAvgfitness.append(sum(fitness(player) for player in predictionTeam)/len(predictionTeam))\n",
    "        preAvgfitness.append(sum(fitness(player) for player in generationTeam)/len(generationTeam))\n",
    "        #sum(c.A for c in c_list)\n",
    "        \n",
    "        #print \"Predictor champion fitness : \" + str(fitness(PreChamp))\n",
    "        #print \"Generator champion fitness : \" + str(fitness(GenChamp))\n",
    "        \n",
    "        for i in generationTeam:\n",
    "            i.newGame()\n",
    "        for i in predictionTeam:\n",
    "            i.newGame()\n",
    "        \n",
    "        \n",
    "    plt.plot(genchampfitness, label='Generator Champ Fitness')\n",
    "    plt.plot(prechampfitness, label='Predictor Champ Fitness')\n",
    "    plt.plot(genAvgfitness, label='Generator Average Fitness')\n",
    "    plt.plot(preAvgfitness, label='Predictor Average Fitness')    \n",
    "    plt.ylabel('Fitness')    \n",
    "    plt.xlabel('Generation')\n",
    "    plt.show()\n",
    "    \n",
    "        # keep top x% players\n",
    "        # mutate and Xover parents\n",
    "        # get new Population\n",
    "        # play again"
   ]
  },
  {
   "cell_type": "code",
   "execution_count": 109,
   "metadata": {
    "collapsed": false
   },
   "outputs": [
    {
     "data": {
      "image/png": "[encoded data removed]",
      "text/html": [
       "\n",
       "\n",
       "<style>\n",
       "\n",
       "</style>\n",
       "\n",
       "<div id=\"fig_el5463140214455770064760905819\"></div>\n",
       "<script>\n",
       "function mpld3_load_lib(url, callback){\n",
       "  var s = document.createElement('script');\n",
       "  s.src = url;\n",
       "  s.async = true;\n",
       "  s.onreadystatechange = s.onload = callback;\n",
       "  s.onerror = function(){console.warn(\"failed to load library \" + url);};\n",
       "  document.getElementsByTagName(\"head\")[0].appendChild(s);\n",
       "}\n",
       "\n",
       "if(typeof(mpld3) !== \"undefined\" && mpld3._mpld3IsLoaded){\n",
       "   // already loaded: just create the figure\n",
       "   !function(mpld3){\n",
       "       \n",
       "       mpld3.draw_figure(\"fig_el5463140214455770064760905819\", {\"axes\": [{\"xlim\": [0.0, 20.0], \"yscale\": \"linear\", \"axesbg\": \"#FFFFFF\", \"texts\": [{\"v_baseline\": \"hanging\", \"h_anchor\": \"middle\", \"color\": \"#000000\", \"text\": \"Generation\", \"coordinates\": \"axes\", \"zorder\": 3, \"alpha\": 1, \"fontsize\": 10.0, \"position\": [0.5, -0.080645161290322578], \"rotation\": -0.0, \"id\": \"el5463140214478997072\"}, {\"v_baseline\": \"auto\", \"h_anchor\": \"middle\", \"color\": \"#000000\", \"text\": \"Fitness\", \"coordinates\": \"axes\", \"zorder\": 3, \"alpha\": 1, \"fontsize\": 10.0, \"position\": [-0.08434139784946236, 0.5], \"rotation\": -90.0, \"id\": \"el5463140214949453008\"}], \"zoomable\": true, \"images\": [], \"xdomain\": [0.0, 20.0], \"ylim\": [0.0, 140.0], \"paths\": [], \"sharey\": [], \"sharex\": [], \"axesbgalpha\": null, \"axes\": [{\"scale\": \"linear\", \"tickformat\": null, \"grid\": {\"gridOn\": false}, \"fontsize\": 10.0, \"position\": \"bottom\", \"nticks\": 5, \"tickvalues\": null}, {\"scale\": \"linear\", \"tickformat\": null, \"grid\": {\"gridOn\": false}, \"fontsize\": 10.0, \"position\": \"left\", \"nticks\": 8, \"tickvalues\": null}], \"lines\": [{\"color\": \"#0000FF\", \"yindex\": 1, \"coordinates\": \"data\", \"dasharray\": \"10,0\", \"zorder\": 2, \"alpha\": 1, \"xindex\": 0, \"linewidth\": 1.0, \"data\": \"data01\", \"id\": \"el5463140214463102160\"}, {\"color\": \"#007F00\", \"yindex\": 2, \"coordinates\": \"data\", \"dasharray\": \"10,0\", \"zorder\": 2, \"alpha\": 1, \"xindex\": 0, \"linewidth\": 1.0, \"data\": \"data01\", \"id\": \"el5463140214463102608\"}, {\"color\": \"#FF0000\", \"yindex\": 3, \"coordinates\": \"data\", \"dasharray\": \"10,0\", \"zorder\": 2, \"alpha\": 1, \"xindex\": 0, \"linewidth\": 1.0, \"data\": \"data01\", \"id\": \"el5463140214463761040\"}, {\"color\": \"#00BFBF\", \"yindex\": 4, \"coordinates\": \"data\", \"dasharray\": \"10,0\", \"zorder\": 2, \"alpha\": 1, \"xindex\": 0, \"linewidth\": 1.0, \"data\": \"data01\", \"id\": \"el5463140214463760336\"}], \"markers\": [], \"id\": \"el5463140214455281616\", \"ydomain\": [0.0, 140.0], \"collections\": [], \"xscale\": \"linear\", \"bbox\": [0.125, 0.125, 0.77500000000000002, 0.77500000000000002]}], \"height\": 320.0, \"width\": 480.0, \"plugins\": [{\"type\": \"reset\"}, {\"enabled\": false, \"button\": true, \"type\": \"zoom\"}, {\"enabled\": false, \"button\": true, \"type\": \"boxzoom\"}], \"data\": {\"data01\": [[0.0, 0.0, 0.0, 0.0, 0.0], [1.0, 0.0, 0.0, 0.0, 0.0], [2.0, 72.1, 42.6, 28.03199999999999, 26.566999999999997], [3.0, 66.6, 94.5, 32.54600000000001, 30.992000000000015], [4.0, 67.89999999999999, 128.1, 29.50799999999999, 29.844999999999995], [5.0, 103.6, 90.6, 32.085, 29.789999999999992], [6.0, 125.3, 105.0, 28.51599999999999, 27.858], [7.0, 85.19999999999999, 109.89999999999999, 26.82700000000001, 27.324], [8.0, 64.39999999999999, 81.4, 30.244999999999994, 28.730000000000004], [9.0, 105.0, 69.1, 28.237, 26.456999999999997], [10.0, 78.6, 70.0, 26.752000000000002, 27.148999999999997], [11.0, 72.6, 136.5, 28.267999999999986, 26.25100000000001], [12.0, 103.6, 95.6, 27.98599999999998, 26.22499999999999], [13.0, 77.3, 65.8, 24.648000000000007, 25.679999999999996], [14.0, 98.0, 55.199999999999996, 25.635, 24.66], [15.0, 80.5, 100.8, 24.757, 26.255000000000006], [16.0, 107.1, 77.5, 27.28600000000001, 26.005], [17.0, 80.19999999999999, 57.39999999999999, 26.984, 25.321000000000005], [18.0, 62.8, 58.099999999999994, 25.099999999999994, 27.43], [19.0, 57.3, 59.3, 24.630999999999993, 26.156999999999993]]}, \"id\": \"el5463140214455770064\"});\n",
       "   }(mpld3);\n",
       "}else if(typeof define === \"function\" && define.amd){\n",
       "   // require.js is available: use it to load d3/mpld3\n",
       "   require.config({paths: {d3: \"https://mpld3.github.io/js/d3.v3.min\"}});\n",
       "   require([\"d3\"], function(d3){\n",
       "      window.d3 = d3;\n",
       "      mpld3_load_lib(\"https://mpld3.github.io/js/mpld3.v0.2.js\", function(){\n",
       "         \n",
       "         mpld3.draw_figure(\"fig_el5463140214455770064760905819\", {\"axes\": [{\"xlim\": [0.0, 20.0], \"yscale\": \"linear\", \"axesbg\": \"#FFFFFF\", \"texts\": [{\"v_baseline\": \"hanging\", \"h_anchor\": \"middle\", \"color\": \"#000000\", \"text\": \"Generation\", \"coordinates\": \"axes\", \"zorder\": 3, \"alpha\": 1, \"fontsize\": 10.0, \"position\": [0.5, -0.080645161290322578], \"rotation\": -0.0, \"id\": \"el5463140214478997072\"}, {\"v_baseline\": \"auto\", \"h_anchor\": \"middle\", \"color\": \"#000000\", \"text\": \"Fitness\", \"coordinates\": \"axes\", \"zorder\": 3, \"alpha\": 1, \"fontsize\": 10.0, \"position\": [-0.08434139784946236, 0.5], \"rotation\": -90.0, \"id\": \"el5463140214949453008\"}], \"zoomable\": true, \"images\": [], \"xdomain\": [0.0, 20.0], \"ylim\": [0.0, 140.0], \"paths\": [], \"sharey\": [], \"sharex\": [], \"axesbgalpha\": null, \"axes\": [{\"scale\": \"linear\", \"tickformat\": null, \"grid\": {\"gridOn\": false}, \"fontsize\": 10.0, \"position\": \"bottom\", \"nticks\": 5, \"tickvalues\": null}, {\"scale\": \"linear\", \"tickformat\": null, \"grid\": {\"gridOn\": false}, \"fontsize\": 10.0, \"position\": \"left\", \"nticks\": 8, \"tickvalues\": null}], \"lines\": [{\"color\": \"#0000FF\", \"yindex\": 1, \"coordinates\": \"data\", \"dasharray\": \"10,0\", \"zorder\": 2, \"alpha\": 1, \"xindex\": 0, \"linewidth\": 1.0, \"data\": \"data01\", \"id\": \"el5463140214463102160\"}, {\"color\": \"#007F00\", \"yindex\": 2, \"coordinates\": \"data\", \"dasharray\": \"10,0\", \"zorder\": 2, \"alpha\": 1, \"xindex\": 0, \"linewidth\": 1.0, \"data\": \"data01\", \"id\": \"el5463140214463102608\"}, {\"color\": \"#FF0000\", \"yindex\": 3, \"coordinates\": \"data\", \"dasharray\": \"10,0\", \"zorder\": 2, \"alpha\": 1, \"xindex\": 0, \"linewidth\": 1.0, \"data\": \"data01\", \"id\": \"el5463140214463761040\"}, {\"color\": \"#00BFBF\", \"yindex\": 4, \"coordinates\": \"data\", \"dasharray\": \"10,0\", \"zorder\": 2, \"alpha\": 1, \"xindex\": 0, \"linewidth\": 1.0, \"data\": \"data01\", \"id\": \"el5463140214463760336\"}], \"markers\": [], \"id\": \"el5463140214455281616\", \"ydomain\": [0.0, 140.0], \"collections\": [], \"xscale\": \"linear\", \"bbox\": [0.125, 0.125, 0.77500000000000002, 0.77500000000000002]}], \"height\": 320.0, \"width\": 480.0, \"plugins\": [{\"type\": \"reset\"}, {\"enabled\": false, \"button\": true, \"type\": \"zoom\"}, {\"enabled\": false, \"button\": true, \"type\": \"boxzoom\"}], \"data\": {\"data01\": [[0.0, 0.0, 0.0, 0.0, 0.0], [1.0, 0.0, 0.0, 0.0, 0.0], [2.0, 72.1, 42.6, 28.03199999999999, 26.566999999999997], [3.0, 66.6, 94.5, 32.54600000000001, 30.992000000000015], [4.0, 67.89999999999999, 128.1, 29.50799999999999, 29.844999999999995], [5.0, 103.6, 90.6, 32.085, 29.789999999999992], [6.0, 125.3, 105.0, 28.51599999999999, 27.858], [7.0, 85.19999999999999, 109.89999999999999, 26.82700000000001, 27.324], [8.0, 64.39999999999999, 81.4, 30.244999999999994, 28.730000000000004], [9.0, 105.0, 69.1, 28.237, 26.456999999999997], [10.0, 78.6, 70.0, 26.752000000000002, 27.148999999999997], [11.0, 72.6, 136.5, 28.267999999999986, 26.25100000000001], [12.0, 103.6, 95.6, 27.98599999999998, 26.22499999999999], [13.0, 77.3, 65.8, 24.648000000000007, 25.679999999999996], [14.0, 98.0, 55.199999999999996, 25.635, 24.66], [15.0, 80.5, 100.8, 24.757, 26.255000000000006], [16.0, 107.1, 77.5, 27.28600000000001, 26.005], [17.0, 80.19999999999999, 57.39999999999999, 26.984, 25.321000000000005], [18.0, 62.8, 58.099999999999994, 25.099999999999994, 27.43], [19.0, 57.3, 59.3, 24.630999999999993, 26.156999999999993]]}, \"id\": \"el5463140214455770064\"});\n",
       "      });\n",
       "    });\n",
       "}else{\n",
       "    // require.js not available: dynamically load d3 & mpld3\n",
       "    mpld3_load_lib(\"https://mpld3.github.io/js/d3.v3.min.js\", function(){\n",
       "         mpld3_load_lib(\"https://mpld3.github.io/js/mpld3.v0.2.js\", function(){\n",
       "                 \n",
       "                 mpld3.draw_figure(\"fig_el5463140214455770064760905819\", {\"axes\": [{\"xlim\": [0.0, 20.0], \"yscale\": \"linear\", \"axesbg\": \"#FFFFFF\", \"texts\": [{\"v_baseline\": \"hanging\", \"h_anchor\": \"middle\", \"color\": \"#000000\", \"text\": \"Generation\", \"coordinates\": \"axes\", \"zorder\": 3, \"alpha\": 1, \"fontsize\": 10.0, \"position\": [0.5, -0.080645161290322578], \"rotation\": -0.0, \"id\": \"el5463140214478997072\"}, {\"v_baseline\": \"auto\", \"h_anchor\": \"middle\", \"color\": \"#000000\", \"text\": \"Fitness\", \"coordinates\": \"axes\", \"zorder\": 3, \"alpha\": 1, \"fontsize\": 10.0, \"position\": [-0.08434139784946236, 0.5], \"rotation\": -90.0, \"id\": \"el5463140214949453008\"}], \"zoomable\": true, \"images\": [], \"xdomain\": [0.0, 20.0], \"ylim\": [0.0, 140.0], \"paths\": [], \"sharey\": [], \"sharex\": [], \"axesbgalpha\": null, \"axes\": [{\"scale\": \"linear\", \"tickformat\": null, \"grid\": {\"gridOn\": false}, \"fontsize\": 10.0, \"position\": \"bottom\", \"nticks\": 5, \"tickvalues\": null}, {\"scale\": \"linear\", \"tickformat\": null, \"grid\": {\"gridOn\": false}, \"fontsize\": 10.0, \"position\": \"left\", \"nticks\": 8, \"tickvalues\": null}], \"lines\": [{\"color\": \"#0000FF\", \"yindex\": 1, \"coordinates\": \"data\", \"dasharray\": \"10,0\", \"zorder\": 2, \"alpha\": 1, \"xindex\": 0, \"linewidth\": 1.0, \"data\": \"data01\", \"id\": \"el5463140214463102160\"}, {\"color\": \"#007F00\", \"yindex\": 2, \"coordinates\": \"data\", \"dasharray\": \"10,0\", \"zorder\": 2, \"alpha\": 1, \"xindex\": 0, \"linewidth\": 1.0, \"data\": \"data01\", \"id\": \"el5463140214463102608\"}, {\"color\": \"#FF0000\", \"yindex\": 3, \"coordinates\": \"data\", \"dasharray\": \"10,0\", \"zorder\": 2, \"alpha\": 1, \"xindex\": 0, \"linewidth\": 1.0, \"data\": \"data01\", \"id\": \"el5463140214463761040\"}, {\"color\": \"#00BFBF\", \"yindex\": 4, \"coordinates\": \"data\", \"dasharray\": \"10,0\", \"zorder\": 2, \"alpha\": 1, \"xindex\": 0, \"linewidth\": 1.0, \"data\": \"data01\", \"id\": \"el5463140214463760336\"}], \"markers\": [], \"id\": \"el5463140214455281616\", \"ydomain\": [0.0, 140.0], \"collections\": [], \"xscale\": \"linear\", \"bbox\": [0.125, 0.125, 0.77500000000000002, 0.77500000000000002]}], \"height\": 320.0, \"width\": 480.0, \"plugins\": [{\"type\": \"reset\"}, {\"enabled\": false, \"button\": true, \"type\": \"zoom\"}, {\"enabled\": false, \"button\": true, \"type\": \"boxzoom\"}], \"data\": {\"data01\": [[0.0, 0.0, 0.0, 0.0, 0.0], [1.0, 0.0, 0.0, 0.0, 0.0], [2.0, 72.1, 42.6, 28.03199999999999, 26.566999999999997], [3.0, 66.6, 94.5, 32.54600000000001, 30.992000000000015], [4.0, 67.89999999999999, 128.1, 29.50799999999999, 29.844999999999995], [5.0, 103.6, 90.6, 32.085, 29.789999999999992], [6.0, 125.3, 105.0, 28.51599999999999, 27.858], [7.0, 85.19999999999999, 109.89999999999999, 26.82700000000001, 27.324], [8.0, 64.39999999999999, 81.4, 30.244999999999994, 28.730000000000004], [9.0, 105.0, 69.1, 28.237, 26.456999999999997], [10.0, 78.6, 70.0, 26.752000000000002, 27.148999999999997], [11.0, 72.6, 136.5, 28.267999999999986, 26.25100000000001], [12.0, 103.6, 95.6, 27.98599999999998, 26.22499999999999], [13.0, 77.3, 65.8, 24.648000000000007, 25.679999999999996], [14.0, 98.0, 55.199999999999996, 25.635, 24.66], [15.0, 80.5, 100.8, 24.757, 26.255000000000006], [16.0, 107.1, 77.5, 27.28600000000001, 26.005], [17.0, 80.19999999999999, 57.39999999999999, 26.984, 25.321000000000005], [18.0, 62.8, 58.099999999999994, 25.099999999999994, 27.43], [19.0, 57.3, 59.3, 24.630999999999993, 26.156999999999993]]}, \"id\": \"el5463140214455770064\"});\n",
       "            })\n",
       "         });\n",
       "}\n",
       "</script>"
      ],
      "text/plain": [
       "<matplotlib.figure.Figure at 0x7f8638d41bd0>"
      ]
     },
     "metadata": {},
     "output_type": "display_data"
    }
   ],
   "source": [
    "playGame(100,20)"
   ]
  },
  {
   "cell_type": "code",
   "execution_count": 69,
   "metadata": {
    "collapsed": false
   },
   "outputs": [
    {
     "data": {
      "text/plain": [
       "[97, 53, 21, 6, 5, 4, 4, 3, 2, 1]"
      ]
     },
     "execution_count": 69,
     "metadata": {},
     "output_type": "execute_result"
    }
   ],
   "source": [
    "mylist = [1,2,4,53,21,97,6,5,4,3]\n",
    "def square(player): return player\n",
    "mylist = sorted(mylist, key=lambda player: square(player), reverse= True)\n",
    "mylist"
   ]
  },
  {
   "cell_type": "code",
   "execution_count": 85,
   "metadata": {
    "collapsed": true
   },
   "outputs": [],
   "source": [
    "def fitness(player): \n",
    "    return player.getCurrentScore() * 0.7 + player.getLastScore() * 0.3"
   ]
  },
  {
   "cell_type": "code",
   "execution_count": 110,
   "metadata": {
    "collapsed": false
   },
   "outputs": [
    {
     "data": {
      "image/png": "[encoded data removed]",
      "text/html": [
       "\n",
       "\n",
       "<style>\n",
       "\n",
       "</style>\n",
       "\n",
       "<div id=\"fig_el54631402144594060965607560160\"></div>\n",
       "<script>\n",
       "function mpld3_load_lib(url, callback){\n",
       "  var s = document.createElement('script');\n",
       "  s.src = url;\n",
       "  s.async = true;\n",
       "  s.onreadystatechange = s.onload = callback;\n",
       "  s.onerror = function(){console.warn(\"failed to load library \" + url);};\n",
       "  document.getElementsByTagName(\"head\")[0].appendChild(s);\n",
       "}\n",
       "\n",
       "if(typeof(mpld3) !== \"undefined\" && mpld3._mpld3IsLoaded){\n",
       "   // already loaded: just create the figure\n",
       "   !function(mpld3){\n",
       "       \n",
       "       mpld3.draw_figure(\"fig_el54631402144594060965607560160\", {\"axes\": [{\"xlim\": [0.0, 2.0], \"yscale\": \"linear\", \"axesbg\": \"#FFFFFF\", \"texts\": [{\"v_baseline\": \"auto\", \"h_anchor\": \"start\", \"color\": \"#000000\", \"text\": \"None\", \"coordinates\": \"axes\", \"zorder\": 1000003.0, \"alpha\": 1, \"fontsize\": 10.0, \"position\": [-0.16129032258064516, -1.5548387096774201], \"rotation\": -0.0, \"id\": \"el5463140214455587984\"}, {\"v_baseline\": \"auto\", \"h_anchor\": \"start\", \"color\": \"#000000\", \"text\": \"test1\", \"coordinates\": \"axes\", \"zorder\": 1000003.0, \"alpha\": 1, \"fontsize\": 12.0, \"position\": [0.11469534050179211, 1.093924731182796], \"rotation\": -0.0, \"id\": \"el5463140214500284624\"}, {\"v_baseline\": \"auto\", \"h_anchor\": \"start\", \"color\": \"#000000\", \"text\": \"test2\", \"coordinates\": \"axes\", \"zorder\": 1000003.0, \"alpha\": 1, \"fontsize\": 12.0, \"position\": [0.89325716845878145, 1.093924731182796], \"rotation\": -0.0, \"id\": \"el5463140214500282640\"}], \"zoomable\": true, \"images\": [], \"xdomain\": [0.0, 2.0], \"ylim\": [1.0, 3.0], \"paths\": [{\"edgecolor\": \"#000000\", \"facecolor\": \"#FFFFFF\", \"edgewidth\": 1.0, \"pathcodes\": [\"M\", \"L\", \"L\", \"L\", \"Z\"], \"yindex\": 1, \"coordinates\": \"axes\", \"dasharray\": \"10,0\", \"zorder\": 1000001.0, \"alpha\": 1, \"xindex\": 0, \"data\": \"data03\", \"id\": \"el5463140214500285008\"}], \"sharey\": [], \"sharex\": [], \"axesbgalpha\": null, \"axes\": [{\"scale\": \"linear\", \"tickformat\": null, \"grid\": {\"gridOn\": false}, \"fontsize\": 10.0, \"position\": \"bottom\", \"nticks\": 5, \"tickvalues\": null}, {\"scale\": \"linear\", \"tickformat\": null, \"grid\": {\"gridOn\": false}, \"fontsize\": 10.0, \"position\": \"left\", \"nticks\": 5, \"tickvalues\": null}], \"lines\": [{\"color\": \"#0000FF\", \"yindex\": 1, \"coordinates\": \"data\", \"dasharray\": \"10,0\", \"zorder\": 2, \"alpha\": 1, \"xindex\": 0, \"linewidth\": 1.0, \"data\": \"data01\", \"id\": \"el5463140214458550992\"}, {\"color\": \"#007F00\", \"yindex\": 2, \"coordinates\": \"data\", \"dasharray\": \"10,0\", \"zorder\": 2, \"alpha\": 1, \"xindex\": 0, \"linewidth\": 1.0, \"data\": \"data01\", \"id\": \"el5463140214458550928\"}, {\"color\": \"#0000FF\", \"yindex\": 1, \"coordinates\": \"axes\", \"dasharray\": \"10,0\", \"zorder\": 1000002.0, \"alpha\": 1, \"xindex\": 0, \"linewidth\": 1.0, \"data\": \"data02\", \"id\": \"el5463140214500285264\"}, {\"color\": \"#007F00\", \"yindex\": 1, \"coordinates\": \"axes\", \"dasharray\": \"10,0\", \"zorder\": 1000002.0, \"alpha\": 1, \"xindex\": 2, \"linewidth\": 1.0, \"data\": \"data02\", \"id\": \"el5463140215515819920\"}], \"markers\": [], \"id\": \"el5463140214457457936\", \"ydomain\": [1.0, 3.0], \"collections\": [], \"xscale\": \"linear\", \"bbox\": [0.125, 0.54772727272727284, 0.77500000000000002, 0.35227272727272718]}, {\"xlim\": [0.0, 2.0], \"yscale\": \"linear\", \"axesbg\": \"#FFFFFF\", \"texts\": [{\"v_baseline\": \"auto\", \"h_anchor\": \"start\", \"color\": \"#000000\", \"text\": \"None\", \"coordinates\": \"axes\", \"zorder\": 1000003.0, \"alpha\": 1, \"fontsize\": 10.0, \"position\": [-0.35483870967741943, -0.35483870967741971], \"rotation\": -0.0, \"id\": \"el5463140214463076688\"}, {\"v_baseline\": \"auto\", \"h_anchor\": \"start\", \"color\": \"#000000\", \"text\": \"test1\", \"coordinates\": \"axes\", \"zorder\": 1000003.0, \"alpha\": 1, \"fontsize\": 12.0, \"position\": [1.3023297491039425, 0.86397849462365572], \"rotation\": -0.0, \"id\": \"el5463140214455898448\"}, {\"v_baseline\": \"auto\", \"h_anchor\": \"start\", \"color\": \"#000000\", \"text\": \"test2\", \"coordinates\": \"axes\", \"zorder\": 1000003.0, \"alpha\": 1, \"fontsize\": 12.0, \"position\": [1.3023297491039425, 0.68951612903225779], \"rotation\": -0.0, \"id\": \"el5463140214463916496\"}], \"zoomable\": true, \"images\": [], \"xdomain\": [0.0, 2.0], \"ylim\": [1.0, 3.0], \"paths\": [{\"edgecolor\": \"#000000\", \"facecolor\": \"#FFFFFF\", \"edgewidth\": 1.0, \"pathcodes\": [\"M\", \"L\", \"L\", \"L\", \"Z\"], \"yindex\": 1, \"coordinates\": \"axes\", \"dasharray\": \"10,0\", \"zorder\": 1000001.0, \"alpha\": 1, \"xindex\": 0, \"data\": \"data05\", \"id\": \"el5463140214455204432\"}], \"sharey\": [], \"sharex\": [], \"axesbgalpha\": null, \"axes\": [{\"scale\": \"linear\", \"tickformat\": null, \"grid\": {\"gridOn\": false}, \"fontsize\": 10.0, \"position\": \"bottom\", \"nticks\": 5, \"tickvalues\": null}, {\"scale\": \"linear\", \"tickformat\": null, \"grid\": {\"gridOn\": false}, \"fontsize\": 10.0, \"position\": \"left\", \"nticks\": 5, \"tickvalues\": null}], \"lines\": [{\"color\": \"#0000FF\", \"yindex\": 1, \"coordinates\": \"data\", \"dasharray\": \"10,0\", \"zorder\": 2, \"alpha\": 1, \"xindex\": 0, \"linewidth\": 1.0, \"data\": \"data01\", \"id\": \"el5463140214457394384\"}, {\"color\": \"#007F00\", \"yindex\": 2, \"coordinates\": \"data\", \"dasharray\": \"10,0\", \"zorder\": 2, \"alpha\": 1, \"xindex\": 0, \"linewidth\": 1.0, \"data\": \"data01\", \"id\": \"el5463140214456721936\"}, {\"color\": \"#0000FF\", \"yindex\": 1, \"coordinates\": \"axes\", \"dasharray\": \"10,0\", \"zorder\": 1000002.0, \"alpha\": 1, \"xindex\": 0, \"linewidth\": 1.0, \"data\": \"data04\", \"id\": \"el5463140214463998736\"}, {\"color\": \"#007F00\", \"yindex\": 2, \"coordinates\": \"axes\", \"dasharray\": \"10,0\", \"zorder\": 1000002.0, \"alpha\": 1, \"xindex\": 0, \"linewidth\": 1.0, \"data\": \"data04\", \"id\": \"el5463140214463009424\"}], \"markers\": [], \"id\": \"el5463140214458550800\", \"ydomain\": [1.0, 3.0], \"collections\": [], \"xscale\": \"linear\", \"bbox\": [0.125, 0.12500000000000011, 0.35227272727272724, 0.35227272727272724]}], \"height\": 320.0, \"width\": 480.0, \"plugins\": [{\"type\": \"reset\"}, {\"enabled\": false, \"button\": true, \"type\": \"zoom\"}, {\"enabled\": false, \"button\": true, \"type\": \"boxzoom\"}], \"data\": {\"data04\": [[1.1051971326164876, 0.9053763440860213, 0.7309139784946234], [1.2155913978494626, 0.9053763440860213, 0.7309139784946234]], \"data05\": [[1.05, 0.6155913978494622], [1.5371639784946234, 0.6155913978494622], [1.5371639784946234, 0.9999999999999998], [1.05, 0.9999999999999998]], \"data02\": [[0.025089605734767022, 1.1353225806451617, 0.8036514336917563], [0.07526881720430108, 1.1353225806451617, 0.8538306451612904]], \"data03\": [[0.0, 1.0200000000000005], [1.0, 1.0200000000000005], [1.0, 1.2299462365591403], [0.0, 1.2299462365591403]], \"data01\": [[0.0, 1.0, 3.0], [1.0, 2.0, 2.0], [2.0, 3.0, 1.0]]}, \"id\": \"el5463140214459406096\"});\n",
       "   }(mpld3);\n",
       "}else if(typeof define === \"function\" && define.amd){\n",
       "   // require.js is available: use it to load d3/mpld3\n",
       "   require.config({paths: {d3: \"https://mpld3.github.io/js/d3.v3.min\"}});\n",
       "   require([\"d3\"], function(d3){\n",
       "      window.d3 = d3;\n",
       "      mpld3_load_lib(\"https://mpld3.github.io/js/mpld3.v0.2.js\", function(){\n",
       "         \n",
       "         mpld3.draw_figure(\"fig_el54631402144594060965607560160\", {\"axes\": [{\"xlim\": [0.0, 2.0], \"yscale\": \"linear\", \"axesbg\": \"#FFFFFF\", \"texts\": [{\"v_baseline\": \"auto\", \"h_anchor\": \"start\", \"color\": \"#000000\", \"text\": \"None\", \"coordinates\": \"axes\", \"zorder\": 1000003.0, \"alpha\": 1, \"fontsize\": 10.0, \"position\": [-0.16129032258064516, -1.5548387096774201], \"rotation\": -0.0, \"id\": \"el5463140214455587984\"}, {\"v_baseline\": \"auto\", \"h_anchor\": \"start\", \"color\": \"#000000\", \"text\": \"test1\", \"coordinates\": \"axes\", \"zorder\": 1000003.0, \"alpha\": 1, \"fontsize\": 12.0, \"position\": [0.11469534050179211, 1.093924731182796], \"rotation\": -0.0, \"id\": \"el5463140214500284624\"}, {\"v_baseline\": \"auto\", \"h_anchor\": \"start\", \"color\": \"#000000\", \"text\": \"test2\", \"coordinates\": \"axes\", \"zorder\": 1000003.0, \"alpha\": 1, \"fontsize\": 12.0, \"position\": [0.89325716845878145, 1.093924731182796], \"rotation\": -0.0, \"id\": \"el5463140214500282640\"}], \"zoomable\": true, \"images\": [], \"xdomain\": [0.0, 2.0], \"ylim\": [1.0, 3.0], \"paths\": [{\"edgecolor\": \"#000000\", \"facecolor\": \"#FFFFFF\", \"edgewidth\": 1.0, \"pathcodes\": [\"M\", \"L\", \"L\", \"L\", \"Z\"], \"yindex\": 1, \"coordinates\": \"axes\", \"dasharray\": \"10,0\", \"zorder\": 1000001.0, \"alpha\": 1, \"xindex\": 0, \"data\": \"data03\", \"id\": \"el5463140214500285008\"}], \"sharey\": [], \"sharex\": [], \"axesbgalpha\": null, \"axes\": [{\"scale\": \"linear\", \"tickformat\": null, \"grid\": {\"gridOn\": false}, \"fontsize\": 10.0, \"position\": \"bottom\", \"nticks\": 5, \"tickvalues\": null}, {\"scale\": \"linear\", \"tickformat\": null, \"grid\": {\"gridOn\": false}, \"fontsize\": 10.0, \"position\": \"left\", \"nticks\": 5, \"tickvalues\": null}], \"lines\": [{\"color\": \"#0000FF\", \"yindex\": 1, \"coordinates\": \"data\", \"dasharray\": \"10,0\", \"zorder\": 2, \"alpha\": 1, \"xindex\": 0, \"linewidth\": 1.0, \"data\": \"data01\", \"id\": \"el5463140214458550992\"}, {\"color\": \"#007F00\", \"yindex\": 2, \"coordinates\": \"data\", \"dasharray\": \"10,0\", \"zorder\": 2, \"alpha\": 1, \"xindex\": 0, \"linewidth\": 1.0, \"data\": \"data01\", \"id\": \"el5463140214458550928\"}, {\"color\": \"#0000FF\", \"yindex\": 1, \"coordinates\": \"axes\", \"dasharray\": \"10,0\", \"zorder\": 1000002.0, \"alpha\": 1, \"xindex\": 0, \"linewidth\": 1.0, \"data\": \"data02\", \"id\": \"el5463140214500285264\"}, {\"color\": \"#007F00\", \"yindex\": 1, \"coordinates\": \"axes\", \"dasharray\": \"10,0\", \"zorder\": 1000002.0, \"alpha\": 1, \"xindex\": 2, \"linewidth\": 1.0, \"data\": \"data02\", \"id\": \"el5463140215515819920\"}], \"markers\": [], \"id\": \"el5463140214457457936\", \"ydomain\": [1.0, 3.0], \"collections\": [], \"xscale\": \"linear\", \"bbox\": [0.125, 0.54772727272727284, 0.77500000000000002, 0.35227272727272718]}, {\"xlim\": [0.0, 2.0], \"yscale\": \"linear\", \"axesbg\": \"#FFFFFF\", \"texts\": [{\"v_baseline\": \"auto\", \"h_anchor\": \"start\", \"color\": \"#000000\", \"text\": \"None\", \"coordinates\": \"axes\", \"zorder\": 1000003.0, \"alpha\": 1, \"fontsize\": 10.0, \"position\": [-0.35483870967741943, -0.35483870967741971], \"rotation\": -0.0, \"id\": \"el5463140214463076688\"}, {\"v_baseline\": \"auto\", \"h_anchor\": \"start\", \"color\": \"#000000\", \"text\": \"test1\", \"coordinates\": \"axes\", \"zorder\": 1000003.0, \"alpha\": 1, \"fontsize\": 12.0, \"position\": [1.3023297491039425, 0.86397849462365572], \"rotation\": -0.0, \"id\": \"el5463140214455898448\"}, {\"v_baseline\": \"auto\", \"h_anchor\": \"start\", \"color\": \"#000000\", \"text\": \"test2\", \"coordinates\": \"axes\", \"zorder\": 1000003.0, \"alpha\": 1, \"fontsize\": 12.0, \"position\": [1.3023297491039425, 0.68951612903225779], \"rotation\": -0.0, \"id\": \"el5463140214463916496\"}], \"zoomable\": true, \"images\": [], \"xdomain\": [0.0, 2.0], \"ylim\": [1.0, 3.0], \"paths\": [{\"edgecolor\": \"#000000\", \"facecolor\": \"#FFFFFF\", \"edgewidth\": 1.0, \"pathcodes\": [\"M\", \"L\", \"L\", \"L\", \"Z\"], \"yindex\": 1, \"coordinates\": \"axes\", \"dasharray\": \"10,0\", \"zorder\": 1000001.0, \"alpha\": 1, \"xindex\": 0, \"data\": \"data05\", \"id\": \"el5463140214455204432\"}], \"sharey\": [], \"sharex\": [], \"axesbgalpha\": null, \"axes\": [{\"scale\": \"linear\", \"tickformat\": null, \"grid\": {\"gridOn\": false}, \"fontsize\": 10.0, \"position\": \"bottom\", \"nticks\": 5, \"tickvalues\": null}, {\"scale\": \"linear\", \"tickformat\": null, \"grid\": {\"gridOn\": false}, \"fontsize\": 10.0, \"position\": \"left\", \"nticks\": 5, \"tickvalues\": null}], \"lines\": [{\"color\": \"#0000FF\", \"yindex\": 1, \"coordinates\": \"data\", \"dasharray\": \"10,0\", \"zorder\": 2, \"alpha\": 1, \"xindex\": 0, \"linewidth\": 1.0, \"data\": \"data01\", \"id\": \"el5463140214457394384\"}, {\"color\": \"#007F00\", \"yindex\": 2, \"coordinates\": \"data\", \"dasharray\": \"10,0\", \"zorder\": 2, \"alpha\": 1, \"xindex\": 0, \"linewidth\": 1.0, \"data\": \"data01\", \"id\": \"el5463140214456721936\"}, {\"color\": \"#0000FF\", \"yindex\": 1, \"coordinates\": \"axes\", \"dasharray\": \"10,0\", \"zorder\": 1000002.0, \"alpha\": 1, \"xindex\": 0, \"linewidth\": 1.0, \"data\": \"data04\", \"id\": \"el5463140214463998736\"}, {\"color\": \"#007F00\", \"yindex\": 2, \"coordinates\": \"axes\", \"dasharray\": \"10,0\", \"zorder\": 1000002.0, \"alpha\": 1, \"xindex\": 0, \"linewidth\": 1.0, \"data\": \"data04\", \"id\": \"el5463140214463009424\"}], \"markers\": [], \"id\": \"el5463140214458550800\", \"ydomain\": [1.0, 3.0], \"collections\": [], \"xscale\": \"linear\", \"bbox\": [0.125, 0.12500000000000011, 0.35227272727272724, 0.35227272727272724]}], \"height\": 320.0, \"width\": 480.0, \"plugins\": [{\"type\": \"reset\"}, {\"enabled\": false, \"button\": true, \"type\": \"zoom\"}, {\"enabled\": false, \"button\": true, \"type\": \"boxzoom\"}], \"data\": {\"data04\": [[1.1051971326164876, 0.9053763440860213, 0.7309139784946234], [1.2155913978494626, 0.9053763440860213, 0.7309139784946234]], \"data05\": [[1.05, 0.6155913978494622], [1.5371639784946234, 0.6155913978494622], [1.5371639784946234, 0.9999999999999998], [1.05, 0.9999999999999998]], \"data02\": [[0.025089605734767022, 1.1353225806451617, 0.8036514336917563], [0.07526881720430108, 1.1353225806451617, 0.8538306451612904]], \"data03\": [[0.0, 1.0200000000000005], [1.0, 1.0200000000000005], [1.0, 1.2299462365591403], [0.0, 1.2299462365591403]], \"data01\": [[0.0, 1.0, 3.0], [1.0, 2.0, 2.0], [2.0, 3.0, 1.0]]}, \"id\": \"el5463140214459406096\"});\n",
       "      });\n",
       "    });\n",
       "}else{\n",
       "    // require.js not available: dynamically load d3 & mpld3\n",
       "    mpld3_load_lib(\"https://mpld3.github.io/js/d3.v3.min.js\", function(){\n",
       "         mpld3_load_lib(\"https://mpld3.github.io/js/mpld3.v0.2.js\", function(){\n",
       "                 \n",
       "                 mpld3.draw_figure(\"fig_el54631402144594060965607560160\", {\"axes\": [{\"xlim\": [0.0, 2.0], \"yscale\": \"linear\", \"axesbg\": \"#FFFFFF\", \"texts\": [{\"v_baseline\": \"auto\", \"h_anchor\": \"start\", \"color\": \"#000000\", \"text\": \"None\", \"coordinates\": \"axes\", \"zorder\": 1000003.0, \"alpha\": 1, \"fontsize\": 10.0, \"position\": [-0.16129032258064516, -1.5548387096774201], \"rotation\": -0.0, \"id\": \"el5463140214455587984\"}, {\"v_baseline\": \"auto\", \"h_anchor\": \"start\", \"color\": \"#000000\", \"text\": \"test1\", \"coordinates\": \"axes\", \"zorder\": 1000003.0, \"alpha\": 1, \"fontsize\": 12.0, \"position\": [0.11469534050179211, 1.093924731182796], \"rotation\": -0.0, \"id\": \"el5463140214500284624\"}, {\"v_baseline\": \"auto\", \"h_anchor\": \"start\", \"color\": \"#000000\", \"text\": \"test2\", \"coordinates\": \"axes\", \"zorder\": 1000003.0, \"alpha\": 1, \"fontsize\": 12.0, \"position\": [0.89325716845878145, 1.093924731182796], \"rotation\": -0.0, \"id\": \"el5463140214500282640\"}], \"zoomable\": true, \"images\": [], \"xdomain\": [0.0, 2.0], \"ylim\": [1.0, 3.0], \"paths\": [{\"edgecolor\": \"#000000\", \"facecolor\": \"#FFFFFF\", \"edgewidth\": 1.0, \"pathcodes\": [\"M\", \"L\", \"L\", \"L\", \"Z\"], \"yindex\": 1, \"coordinates\": \"axes\", \"dasharray\": \"10,0\", \"zorder\": 1000001.0, \"alpha\": 1, \"xindex\": 0, \"data\": \"data03\", \"id\": \"el5463140214500285008\"}], \"sharey\": [], \"sharex\": [], \"axesbgalpha\": null, \"axes\": [{\"scale\": \"linear\", \"tickformat\": null, \"grid\": {\"gridOn\": false}, \"fontsize\": 10.0, \"position\": \"bottom\", \"nticks\": 5, \"tickvalues\": null}, {\"scale\": \"linear\", \"tickformat\": null, \"grid\": {\"gridOn\": false}, \"fontsize\": 10.0, \"position\": \"left\", \"nticks\": 5, \"tickvalues\": null}], \"lines\": [{\"color\": \"#0000FF\", \"yindex\": 1, \"coordinates\": \"data\", \"dasharray\": \"10,0\", \"zorder\": 2, \"alpha\": 1, \"xindex\": 0, \"linewidth\": 1.0, \"data\": \"data01\", \"id\": \"el5463140214458550992\"}, {\"color\": \"#007F00\", \"yindex\": 2, \"coordinates\": \"data\", \"dasharray\": \"10,0\", \"zorder\": 2, \"alpha\": 1, \"xindex\": 0, \"linewidth\": 1.0, \"data\": \"data01\", \"id\": \"el5463140214458550928\"}, {\"color\": \"#0000FF\", \"yindex\": 1, \"coordinates\": \"axes\", \"dasharray\": \"10,0\", \"zorder\": 1000002.0, \"alpha\": 1, \"xindex\": 0, \"linewidth\": 1.0, \"data\": \"data02\", \"id\": \"el5463140214500285264\"}, {\"color\": \"#007F00\", \"yindex\": 1, \"coordinates\": \"axes\", \"dasharray\": \"10,0\", \"zorder\": 1000002.0, \"alpha\": 1, \"xindex\": 2, \"linewidth\": 1.0, \"data\": \"data02\", \"id\": \"el5463140215515819920\"}], \"markers\": [], \"id\": \"el5463140214457457936\", \"ydomain\": [1.0, 3.0], \"collections\": [], \"xscale\": \"linear\", \"bbox\": [0.125, 0.54772727272727284, 0.77500000000000002, 0.35227272727272718]}, {\"xlim\": [0.0, 2.0], \"yscale\": \"linear\", \"axesbg\": \"#FFFFFF\", \"texts\": [{\"v_baseline\": \"auto\", \"h_anchor\": \"start\", \"color\": \"#000000\", \"text\": \"None\", \"coordinates\": \"axes\", \"zorder\": 1000003.0, \"alpha\": 1, \"fontsize\": 10.0, \"position\": [-0.35483870967741943, -0.35483870967741971], \"rotation\": -0.0, \"id\": \"el5463140214463076688\"}, {\"v_baseline\": \"auto\", \"h_anchor\": \"start\", \"color\": \"#000000\", \"text\": \"test1\", \"coordinates\": \"axes\", \"zorder\": 1000003.0, \"alpha\": 1, \"fontsize\": 12.0, \"position\": [1.3023297491039425, 0.86397849462365572], \"rotation\": -0.0, \"id\": \"el5463140214455898448\"}, {\"v_baseline\": \"auto\", \"h_anchor\": \"start\", \"color\": \"#000000\", \"text\": \"test2\", \"coordinates\": \"axes\", \"zorder\": 1000003.0, \"alpha\": 1, \"fontsize\": 12.0, \"position\": [1.3023297491039425, 0.68951612903225779], \"rotation\": -0.0, \"id\": \"el5463140214463916496\"}], \"zoomable\": true, \"images\": [], \"xdomain\": [0.0, 2.0], \"ylim\": [1.0, 3.0], \"paths\": [{\"edgecolor\": \"#000000\", \"facecolor\": \"#FFFFFF\", \"edgewidth\": 1.0, \"pathcodes\": [\"M\", \"L\", \"L\", \"L\", \"Z\"], \"yindex\": 1, \"coordinates\": \"axes\", \"dasharray\": \"10,0\", \"zorder\": 1000001.0, \"alpha\": 1, \"xindex\": 0, \"data\": \"data05\", \"id\": \"el5463140214455204432\"}], \"sharey\": [], \"sharex\": [], \"axesbgalpha\": null, \"axes\": [{\"scale\": \"linear\", \"tickformat\": null, \"grid\": {\"gridOn\": false}, \"fontsize\": 10.0, \"position\": \"bottom\", \"nticks\": 5, \"tickvalues\": null}, {\"scale\": \"linear\", \"tickformat\": null, \"grid\": {\"gridOn\": false}, \"fontsize\": 10.0, \"position\": \"left\", \"nticks\": 5, \"tickvalues\": null}], \"lines\": [{\"color\": \"#0000FF\", \"yindex\": 1, \"coordinates\": \"data\", \"dasharray\": \"10,0\", \"zorder\": 2, \"alpha\": 1, \"xindex\": 0, \"linewidth\": 1.0, \"data\": \"data01\", \"id\": \"el5463140214457394384\"}, {\"color\": \"#007F00\", \"yindex\": 2, \"coordinates\": \"data\", \"dasharray\": \"10,0\", \"zorder\": 2, \"alpha\": 1, \"xindex\": 0, \"linewidth\": 1.0, \"data\": \"data01\", \"id\": \"el5463140214456721936\"}, {\"color\": \"#0000FF\", \"yindex\": 1, \"coordinates\": \"axes\", \"dasharray\": \"10,0\", \"zorder\": 1000002.0, \"alpha\": 1, \"xindex\": 0, \"linewidth\": 1.0, \"data\": \"data04\", \"id\": \"el5463140214463998736\"}, {\"color\": \"#007F00\", \"yindex\": 2, \"coordinates\": \"axes\", \"dasharray\": \"10,0\", \"zorder\": 1000002.0, \"alpha\": 1, \"xindex\": 0, \"linewidth\": 1.0, \"data\": \"data04\", \"id\": \"el5463140214463009424\"}], \"markers\": [], \"id\": \"el5463140214458550800\", \"ydomain\": [1.0, 3.0], \"collections\": [], \"xscale\": \"linear\", \"bbox\": [0.125, 0.12500000000000011, 0.35227272727272724, 0.35227272727272724]}], \"height\": 320.0, \"width\": 480.0, \"plugins\": [{\"type\": \"reset\"}, {\"enabled\": false, \"button\": true, \"type\": \"zoom\"}, {\"enabled\": false, \"button\": true, \"type\": \"boxzoom\"}], \"data\": {\"data04\": [[1.1051971326164876, 0.9053763440860213, 0.7309139784946234], [1.2155913978494626, 0.9053763440860213, 0.7309139784946234]], \"data05\": [[1.05, 0.6155913978494622], [1.5371639784946234, 0.6155913978494622], [1.5371639784946234, 0.9999999999999998], [1.05, 0.9999999999999998]], \"data02\": [[0.025089605734767022, 1.1353225806451617, 0.8036514336917563], [0.07526881720430108, 1.1353225806451617, 0.8538306451612904]], \"data03\": [[0.0, 1.0200000000000005], [1.0, 1.0200000000000005], [1.0, 1.2299462365591403], [0.0, 1.2299462365591403]], \"data01\": [[0.0, 1.0, 3.0], [1.0, 2.0, 2.0], [2.0, 3.0, 1.0]]}, \"id\": \"el5463140214459406096\"});\n",
       "            })\n",
       "         });\n",
       "}\n",
       "</script>"
      ],
      "text/plain": [
       "<matplotlib.figure.Figure at 0x7f86390b9710>"
      ]
     },
     "metadata": {},
     "output_type": "display_data"
    }
   ],
   "source": [
    "import matplotlib.pyplot as plt\n",
    "\n",
    "\n",
    "plt.subplot(211)\n",
    "plt.plot([1,2,3], label=\"test1\")\n",
    "plt.plot([3,2,1], label=\"test2\")\n",
    "# Place a legend above this legend, expanding itself to\n",
    "# fully use the given bounding box.\n",
    "plt.legend(bbox_to_anchor=(0., 1.02, 1., .102), loc=3,\n",
    "           ncol=2, mode=\"expand\", borderaxespad=0.)\n",
    "\n",
    "plt.subplot(223)\n",
    "plt.plot([1,2,3], label=\"test1\")\n",
    "plt.plot([3,2,1], label=\"test2\")\n",
    "# Place a legend to the right of this smaller figure.\n",
    "plt.legend(bbox_to_anchor=(1.05, 1), loc=2, borderaxespad=0.)\n",
    "\n",
    "plt.show()"
   ]
  },
  {
   "cell_type": "code",
   "execution_count": 90,
   "metadata": {
    "collapsed": false
   },
   "outputs": [
    {
     "data": {
      "text/plain": [
       "[1, 2, 3, 4]"
      ]
     },
     "execution_count": 90,
     "metadata": {},
     "output_type": "execute_result"
    }
   ],
   "source": [
    "a = [1,2,3,4]\n",
    "a[0:]"
   ]
  },
  {
   "cell_type": "code",
   "execution_count": 94,
   "metadata": {
    "collapsed": false
   },
   "outputs": [
    {
     "name": "stdout",
     "output_type": "stream",
     "text": [
      "0 1 2 3 4 5 6 7 8 9\n"
     ]
    }
   ],
   "source": [
    "for i in xrange(10):\n",
    "    print i,"
   ]
  },
  {
   "cell_type": "code",
   "execution_count": 98,
   "metadata": {
    "collapsed": false
   },
   "outputs": [
    {
     "name": "stdout",
     "output_type": "stream",
     "text": [
      "[2, 3, 4, 5]\n"
     ]
    }
   ],
   "source": [
    "from __future__ import print_function\n",
    "value = [2,3,4,5]\n",
    "print(value,  sep='', end='\\n')"
   ]
  },
  {
   "cell_type": "code",
   "execution_count": null,
   "metadata": {
    "collapsed": true
   },
   "outputs": [],
   "source": []
  }
 ],
 "metadata": {
  "celltoolbar": "Slideshow",
  "kernelspec": {
   "display_name": "Python 2",
   "language": "python",
   "name": "python2"
  },
  "language_info": {
   "codemirror_mode": {
    "name": "ipython",
    "version": 2
   },
   "file_extension": ".py",
   "mimetype": "text/x-python",
   "name": "python",
   "nbconvert_exporter": "python",
   "pygments_lexer": "ipython2",
   "version": "2.7.11"
  }
 },
 "nbformat": 4,
 "nbformat_minor": 0
}
