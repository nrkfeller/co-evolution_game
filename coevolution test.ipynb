{
 "cells": [
  {
   "cell_type": "code",
   "execution_count": 8,
   "metadata": {
    "collapsed": true
   },
   "outputs": [],
   "source": [
    "import random\n",
    "import names\n",
    "import matplotlib.pyplot as plt\n",
    "%matplotlib inline  "
   ]
  },
  {
   "cell_type": "code",
   "execution_count": 9,
   "metadata": {
    "collapsed": false
   },
   "outputs": [],
   "source": [
    "class Predictor(object):\n",
    "    \"\"\"\n",
    "    The predictor attemps to guess what the generator will produce.\n",
    "    He gains a point if he predicts accurately and looses one if he doesn't\n",
    "    \"\"\"\n",
    "    def __init__(self):\n",
    "        self.name = names.get_full_name()\n",
    "        self.rules = []\n",
    "        self.scores = []\n",
    "        self.gameScore = 0\n",
    "        self.lastScore = 0\n",
    "        # make players start with some rules\n",
    "    \n",
    "    def getNewRule(self, possiblePreRules):\n",
    "        self.rules.append(random.choice(random.choice(possiblePreRules)) + '-' + str(random.randint(0,1)))\n",
    "        self.rules.sort(lambda x,y: cmp(len(y), len(x)))\n",
    "        #print self.rules\n",
    "    \n",
    "    def getLastScore(self):\n",
    "        if len(self.scores) > 2:\n",
    "            return self.scores[-2]\n",
    "        return 0\n",
    "    \n",
    "    def getCurrentScore(self):\n",
    "        if len(self.scores) > 1:\n",
    "            return self.scores[-1]\n",
    "        return 0\n",
    "        \n",
    "    def predict(self, generator):\n",
    "        #generator.sequence\n",
    "        \n",
    "        def areEquivalent(rs, gc):\n",
    "            rs = list(rs)\n",
    "            gc = list(gc)\n",
    "            for i in xrange(0,len(gc)):\n",
    "                if rs[i] == 'X':\n",
    "                    rs[i] = gc[i]\n",
    "            if rs == gc:\n",
    "                #print str(True),rs,gc\n",
    "                return True\n",
    "            #print str(False),rs,gc\n",
    "            return False\n",
    "                    \n",
    "        #print generator.sequence\n",
    "        for rule in self.rules:\n",
    "            ruleSeq = rule.split('-')\n",
    "            genChunk = generator.sequence[-len(ruleSeq[0]):]\n",
    "            if areEquivalent(ruleSeq[0], genChunk):\n",
    "                #print \"rule predicting\", ruleSeq[0], genChunk, ruleSeq[1]\n",
    "                return ruleSeq[1]\n",
    "        #print \"random predicted\"\n",
    "        return str(random.randint(0,1))\n",
    "    \n",
    "    def predictorWins(self):\n",
    "        self.gameScore += 1\n",
    "        \n",
    "    def newGame(self):\n",
    "        self.scores + [self.gameScore]\n",
    "        #self.lastScore = self.gameScore\n",
    "        self.gameScore = 0\n",
    "        \n",
    "    def mutate(self):\n",
    "        self.rules.append(random.choice(random.choice(possiblePreRules)) + '-' + str(random.randint(0,1)))\n",
    "        del self.rules[random.randint(1,len(self.rules))-1]\n",
    "        self.rules.sort(lambda x,y: cmp(len(y), len(x)))\n",
    "        \n",
    "    def crossover(self, secondParent):\n",
    "        firstHalf = self.rules[0:len(self.rules)]\n",
    "        secondHalf = secondParent.rules[len(secondParent.rules):]\n",
    "        self.rules = firstHalf + secondHalf\n",
    "        return self\n",
    "        \n",
    "                \n",
    "        \n",
    "    \n",
    "    \n",
    "def createAllPreRules(length):\n",
    "    def createAllBin(thelist, length):\n",
    "        if length == 0:\n",
    "            allpossibilities.append(thelist)\n",
    "        else:\n",
    "            if random.random() < 0.9:\n",
    "                createAllBin(thelist+'1', length-1)\n",
    "            else:\n",
    "                createAllBin(thelist+'X', length-1)\n",
    "            if random.random() < 0.9:\n",
    "                createAllBin(thelist+'0', length-1)\n",
    "            else:\n",
    "                createAllBin(thelist+'X', length-1)\n",
    "\n",
    "    allpossibilities = []\n",
    "\n",
    "    for i in range(1,length):\n",
    "        createAllBin('', i)\n",
    "\n",
    "    formatedpossibilities = []\n",
    "    for i in range(0,length-1):\n",
    "        formatedpossibilities.append([])\n",
    "    for i in allpossibilities:\n",
    "        formatedpossibilities[len(i)-1].append(i)\n",
    "\n",
    "    return formatedpossibilities\n",
    "\n",
    "possiblePreRules = createAllPreRules(10)"
   ]
  },
  {
   "cell_type": "code",
   "execution_count": null,
   "metadata": {
    "collapsed": false
   },
   "outputs": [],
   "source": []
  },
  {
   "cell_type": "code",
   "execution_count": null,
   "metadata": {
    "collapsed": false
   },
   "outputs": [],
   "source": []
  },
  {
   "cell_type": "code",
   "execution_count": 10,
   "metadata": {
    "collapsed": false
   },
   "outputs": [],
   "source": [
    "import random\n",
    "\n",
    "class Generator(object):\n",
    "    \"\"\"\n",
    "    The generator generates a string of 1's and 0's.\n",
    "    If the predictor has accurately predicted his next element he looses a point, and if not he gains one\n",
    "    \"\"\"\n",
    "    possibleRules = []\n",
    "    \n",
    "    def __init__(self):\n",
    "        self.name = names.get_full_name()\n",
    "        self.rules = []\n",
    "        self.sequence = ''\n",
    "        self.gameScore = 0\n",
    "        self.lastScore = 0\n",
    "        self.scores = []\n",
    "        \n",
    "    def generate(self):\n",
    "        \n",
    "        for rule in self.rules:\n",
    "            ruleSeq = rule.split('-')\n",
    "            if ruleSeq[0] == self.sequence[-len(ruleSeq):]:\n",
    "                #print \"rule generated\",rule\n",
    "                self.sequence += rule[1]\n",
    "                return rule[1]\n",
    "        nextItem = str(random.randint(0,1))\n",
    "        self.sequence += nextItem\n",
    "        #print \"random generated\", nextItem\n",
    "        return nextItem\n",
    "    \n",
    "    def getLastScore(self):\n",
    "        if len(self.scores) > 2:\n",
    "            return self.scores[-2]\n",
    "        return 0\n",
    "    \n",
    "    def getCurrentScore(self):\n",
    "        if len(self.scores) > 1:\n",
    "            return self.scores[-1]\n",
    "        return 0\n",
    "        \n",
    "    def getNewRule(self, possibleGenRules):\n",
    "        self.rules.append(random.choice(random.choice(possibleGenRules)) + '-' + str(random.randint(0,1)))\n",
    "        self.rules.sort(lambda x,y: cmp(len(y), len(x)))\n",
    "        #print self.rules\n",
    "        \n",
    "    def generatorWins(self):\n",
    "        self.gameScore += 1\n",
    "        \n",
    "    def newGame(self):\n",
    "        self.scores + [self.gameScore]\n",
    "        #self.lastScore = self.gameScore\n",
    "        self.gameScore = 0\n",
    "        \n",
    "    def mutate(self):\n",
    "        self.rules.append(random.choice(random.choice(possibleGenRules)) + '-' + str(random.randint(0,1)))\n",
    "        del self.rules[random.randint(1, len(self.rules))-1]\n",
    "        self.rules.sort(lambda x,y: cmp(len(y), len(x)))\n",
    "        \n",
    "    def crossover(self, secondParent):\n",
    "        firstHalf = self.rules[0:len(self.rules)]\n",
    "        secondHalf = secondParent.rules[len(secondParent.rules):]\n",
    "        self.rules = firstHalf + secondHalf\n",
    "        return self\n",
    "        \n",
    "            \n",
    "def createAllGenRules(length):\n",
    "    def createAllBin(thelist, length):\n",
    "        if length == 0:\n",
    "            allpossibilities.append(thelist)\n",
    "        else:\n",
    "            createAllBin(thelist+'1', length-1)\n",
    "            createAllBin(thelist+'0', length-1)\n",
    "\n",
    "    allpossibilities = []\n",
    "\n",
    "    for i in range(1,length):\n",
    "        createAllBin('', i)\n",
    "\n",
    "    formatedpossibilities = []\n",
    "    for i in range(0,length-1):\n",
    "        formatedpossibilities.append([])\n",
    "    for i in allpossibilities:\n",
    "        formatedpossibilities[len(i)-1].append(i)\n",
    "\n",
    "    return formatedpossibilities\n",
    "\n",
    "possibleGenRules = createAllGenRules(10)\n",
    "    \n"
   ]
  },
  {
   "cell_type": "code",
   "execution_count": null,
   "metadata": {
    "collapsed": false
   },
   "outputs": [],
   "source": []
  },
  {
   "cell_type": "code",
   "execution_count": 14,
   "metadata": {
    "collapsed": false
   },
   "outputs": [],
   "source": [
    "def fitness(player): \n",
    "    return player.getCurrentScore() * 0.7 + player.getLastScore() * 0.3"
   ]
  },
  {
   "cell_type": "code",
   "execution_count": 29,
   "metadata": {
    "collapsed": false
   },
   "outputs": [],
   "source": [
    "def playGame(numberOfPlayers, numOfGenerations):\n",
    "    predictionTeam = []\n",
    "    generationTeam = []\n",
    "    \n",
    "    genchampfitness = []\n",
    "    prechampfitness = []\n",
    "    \n",
    "    genAvgfitness = []\n",
    "    preAvgfitness = []\n",
    "    \n",
    "    for i in range(numberOfPlayers):\n",
    "        newPred = Predictor()\n",
    "        newGen = Generator()\n",
    "        predictionTeam.append(newPred)\n",
    "        generationTeam.append(newGen)\n",
    "    PreChamp = random.choice(predictionTeam)\n",
    "    GenChamp = random.choice(generationTeam)\n",
    "    print PreChamp.rules\n",
    "    \n",
    "    for generation in xrange(0, numOfGenerations):\n",
    "        for move in xrange(0,100):\n",
    "            championPrediction = PreChamp.predict(GenChamp)\n",
    "            championGeneration = GenChamp.generate()\n",
    "            for predPlayer in predictionTeam:\n",
    "                playerPrediction = predPlayer.predict(GenChamp)\n",
    "                if playerPrediction == championGeneration:\n",
    "                    predPlayer.predictorWins()\n",
    "            for genPlayer in generationTeam:\n",
    "                playerGeneration = genPlayer.generate()\n",
    "                if playerGeneration != championPrediction:\n",
    "                    genPlayer.generatorWins()\n",
    "\n",
    "        predictionTeam = sorted(predictionTeam, key=lambda player: fitness(player) , reverse = True)\n",
    "        generationTeam = sorted(generationTeam, key=lambda player: fitness(player) , reverse = True)\n",
    "        \n",
    "        PreChamp = predictionTeam[0]\n",
    "        GenChamp = generationTeam[0]\n",
    "        print PreChamp.rules\n",
    "\n",
    "        for i in xrange(1, int(numberOfPlayers/2)):\n",
    "            predictionTeam[i].mutate()\n",
    "            generationTeam[i].mutate()\n",
    "\n",
    "        predictorsToXover = predictionTeam[int(numberOfPlayers/2):numberOfPlayers]\n",
    "        generatorsToXover = generationTeam[int(numberOfPlayers/2):numberOfPlayers]\n",
    "        for i in xrange(int(numberOfPlayers/2), numberOfPlayers):\n",
    "            predictionTeam[i] = random.choice(predictorsToXover).crossover(random.choice(predictorsToXover))\n",
    "            generationTeam[i] = random.choice(generatorsToXover).crossover(random.choice(generatorsToXover))\n",
    "\n",
    "        genchampfitness.append(fitness(PreChamp))\n",
    "        prechampfitness.append(fitness(GenChamp))\n",
    "        \n",
    "        #add average fitness\n",
    "        \n",
    "        genAvgfitness.append(sum(fitness(player) for player in predictionTeam)/len(predictionTeam))\n",
    "        preAvgfitness.append(sum(fitness(player) for player in generationTeam)/len(generationTeam))\n",
    "        #sum(c.A for c in c_list)\n",
    "        \n",
    "        #print \"Predictor champion fitness : \" + str(fitness(PreChamp))\n",
    "        #print \"Generator champion fitness : \" + str(fitness(GenChamp))\n",
    "        \n",
    "        for i in generationTeam:\n",
    "            i.newGame()\n",
    "        for i in predictionTeam:\n",
    "            i.newGame()\n",
    "        \n",
    "        \n",
    "    plt.plot(genchampfitness, label='Generator Champ Fitness')\n",
    "    plt.plot(prechampfitness, label='Predictor Champ Fitness')\n",
    "    plt.plot(genAvgfitness, label='Generator Average Fitness')\n",
    "    plt.plot(preAvgfitness, label='Predictor Average Fitness')    \n",
    "    plt.ylabel('Fitness')    \n",
    "    plt.xlabel('Generation')\n",
    "    plt.show()\n",
    "    \n",
    "        # keep top x% players\n",
    "        # mutate and Xover parents\n",
    "        # get new Population\n",
    "        # play again"
   ]
  },
  {
   "cell_type": "code",
   "execution_count": 30,
   "metadata": {
    "collapsed": false
   },
   "outputs": [
    {
     "name": "stdout",
     "output_type": "stream",
     "text": [
      "[]\n",
      "[]\n",
      "[]\n",
      "[]\n",
      "[]\n",
      "[]\n",
      "[]\n",
      "[]\n",
      "[]\n",
      "[]\n",
      "[]\n"
     ]
    },
    {
     "data": {
      "image/png": "[encoded data removed]",
      "text/plain": [
       "<matplotlib.figure.Figure at 0x7f4acdd63950>"
      ]
     },
     "metadata": {},
     "output_type": "display_data"
    }
   ],
   "source": [
    "playGame(100,10)"
   ]
  },
  {
   "cell_type": "code",
   "execution_count": null,
   "metadata": {
    "collapsed": false
   },
   "outputs": [],
   "source": []
  },
  {
   "cell_type": "code",
   "execution_count": 6,
   "metadata": {
    "collapsed": true
   },
   "outputs": [],
   "source": []
  },
  {
   "cell_type": "code",
   "execution_count": null,
   "metadata": {
    "collapsed": false
   },
   "outputs": [],
   "source": []
  },
  {
   "cell_type": "code",
   "execution_count": null,
   "metadata": {
    "collapsed": false
   },
   "outputs": [],
   "source": []
  },
  {
   "cell_type": "code",
   "execution_count": null,
   "metadata": {
    "collapsed": false
   },
   "outputs": [],
   "source": []
  },
  {
   "cell_type": "code",
   "execution_count": null,
   "metadata": {
    "collapsed": false
   },
   "outputs": [],
   "source": []
  },
  {
   "cell_type": "code",
   "execution_count": null,
   "metadata": {
    "collapsed": true
   },
   "outputs": [],
   "source": []
  }
 ],
 "metadata": {
  "celltoolbar": "Slideshow",
  "kernelspec": {
   "display_name": "Python 2",
   "language": "python",
   "name": "python2"
  },
  "language_info": {
   "codemirror_mode": {
    "name": "ipython",
    "version": 2
   },
   "file_extension": ".py",
   "mimetype": "text/x-python",
   "name": "python",
   "nbconvert_exporter": "python",
   "pygments_lexer": "ipython2",
   "version": "2.7.11"
  }
 },
 "nbformat": 4,
 "nbformat_minor": 0
}
