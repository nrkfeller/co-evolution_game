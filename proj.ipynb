{
 "cells": [
  {
   "cell_type": "code",
   "execution_count": 2,
   "metadata": {
    "collapsed": true
   },
   "outputs": [],
   "source": [
    "import random\n",
    "import names\n",
    "import matplotlib.pyplot as plt\n",
    "%matplotlib inline \n",
    "#import mpld3\n",
    "#mpld3.enable_notebook()"
   ]
  },
  {
   "cell_type": "code",
   "execution_count": 221,
   "metadata": {
    "collapsed": false
   },
   "outputs": [],
   "source": [
    "class Predictor(object):\n",
    "    \"\"\"\n",
    "    The predictor attemps to guess what the generator will produce.\n",
    "    He gains a point if he predicts accurately and looses one if he doesn't\n",
    "    \"\"\"\n",
    "    def __init__(self):\n",
    "        self.name = names.get_full_name()\n",
    "        self.rules = []\n",
    "        self.gameScore = 0\n",
    "        self.lastScore = 0\n",
    "        self.scores = []\n",
    "        # make players start with some rules\n",
    "    \n",
    "    def getRules(self, ruleset):\n",
    "        for i in xrange(0, random.randint(0,10)):\n",
    "            key = random.choice(ruleset.keys())\n",
    "            newrule = random.choice(ruleset[key])\n",
    "            self.rules.append(newrule)\n",
    "        self.rules.sort(lambda x,y: cmp(len(y[0]), len(x[0])))\n",
    "        \n",
    "    def predict(self, generator):\n",
    "        #generator.sequence\n",
    "        \n",
    "        def areEquivalent(rs, gc):\n",
    "            rs = list(rs)\n",
    "            gc = list(gc)\n",
    "            for i in xrange(0,len(gc)):\n",
    "                if rs[i] == 'X':\n",
    "                    rs[i] = gc[i]\n",
    "            if rs == gc:\n",
    "                #print str(True),rs,gc\n",
    "                return True\n",
    "            #print str(False),rs,gc\n",
    "            return False\n",
    "                    \n",
    "        #print generator.sequence\n",
    "        for rule in self.rules:\n",
    "            ruleSeq = rule.split('-')\n",
    "            genChunk = generator.sequence[-len(ruleSeq[0]):]\n",
    "            if areEquivalent(ruleSeq[0], genChunk):\n",
    "                #print \"rule predicting\", ruleSeq[0], genChunk, ruleSeq[1]\n",
    "                return ruleSeq[1]\n",
    "        #print \"random predicted\"\n",
    "        \n",
    "        return str(random.randint(0,1))\n",
    "    \n",
    "    def predictorWins(self):\n",
    "        self.gameScore += 1\n",
    "        \n",
    "    def newGame(self):\n",
    "        self.scores.append(self.gameScore)\n",
    "        self.lastScore = self.gameScore\n",
    "        self.gameScore = 0\n",
    "        \n",
    "    def mutate(self):\n",
    "        self.rules.append(random.choice(random.choice(possiblePreRules)) + '-' + str(random.randint(0,1)))\n",
    "        del self.rules[random.randint(1,len(self.rules))-1]\n",
    "        self.rules.sort(lambda x,y: cmp(len(y), len(x)))\n",
    "        \n",
    "    def crossover(self, secondParent):\n",
    "        firstHalf = self.rules[0:len(self.rules)]\n",
    "        secondHalf = secondParent.rules[len(secondParent.rules):]\n",
    "        self.rules = firstHalf + secondHalf\n",
    "        return self\n",
    "        \n",
    "                \n",
    "        \n",
    "    \n",
    "    \n",
    "def createAllPreRules(length):\n",
    "    \n",
    "    L = ['']\n",
    "    for n in range(length):\n",
    "        tmp = []\n",
    "        for el in L:\n",
    "            if random.random() < 0.9:\n",
    "                tmp.append(el+'0')\n",
    "            else:\n",
    "                tmp.append(el+'X')\n",
    "\n",
    "            if random.random() < 0.9:\n",
    "                tmp.append(el+'1')\n",
    "            else:\n",
    "                tmp.append(el+'X')\n",
    "            tmp.append('')\n",
    "        L = tmp\n",
    "    L = sorted(set(L))\n",
    "    \n",
    "    formRules = {}\n",
    "    \n",
    "    for i in xrange(length+1):\n",
    "        formRules[str(i)] = []\n",
    "        \n",
    "    for i in L:\n",
    "        formRules[str(len(i))].append((i, str(random.randint(0,1))))\n",
    "\n",
    "    \n",
    "    formRules.pop('0', None)\n",
    "    return formRules\n",
    "\n",
    "possiblePreRules = createAllPreRules(10)"
   ]
  },
  {
   "cell_type": "code",
   "execution_count": 225,
   "metadata": {
    "collapsed": false
   },
   "outputs": [
    {
     "data": {
      "text/plain": [
       "[('10X110001', '0'),\n",
       " ('1X0X01100', '0'),\n",
       " ('10X101101', '1'),\n",
       " ('11X01110', '0'),\n",
       " ('1X101X', '1'),\n",
       " ('1XX01', '1'),\n",
       " ('X100', '1'),\n",
       " ('010', '0'),\n",
       " ('XX', '0')]"
      ]
     },
     "execution_count": 225,
     "metadata": {},
     "output_type": "execute_result"
    }
   ],
   "source": [
    "pred = Predictor()\n",
    "pred.getRules(possiblePreRules)\n",
    "pred.rules"
   ]
  },
  {
   "cell_type": "code",
   "execution_count": 22,
   "metadata": {
    "collapsed": false
   },
   "outputs": [],
   "source": [
    "class Generator(object):\n",
    "    \"\"\"\n",
    "    The generator generates a string of 1's and 0's.\n",
    "    If the predictor has accurately predicted his next element he looses a point, and if not he gains one\n",
    "    \"\"\"\n",
    "    possibleRules = []\n",
    "    \n",
    "    def __init__(self):\n",
    "        self.name = names.get_full_name()\n",
    "        self.rules = []\n",
    "        self.sequence = ''\n",
    "        self.gameScore = 0\n",
    "        self.lastScore = 0\n",
    "        self.scores = []\n",
    "        \n",
    "    def generate(self):\n",
    "        slength = len(self.sequence)\n",
    "        for rule in self.rules:\n",
    "            rlength = len(rule[0])\n",
    "            if slength >= rlength:\n",
    "                seqchunk = self.sequence[-rlength:]\n",
    "                if seqchunk == rule[0]:\n",
    "                    generated = rule[1]\n",
    "                    self.sequence += generated\n",
    "                    return generated\n",
    "        randgen = str(random.randint(0,1))\n",
    "        self.sequence += randgen\n",
    "        print \"randomlygenerate\"\n",
    "        return randgen\n",
    "        \n",
    "    def getRules(self, ruleset):\n",
    "        for i in xrange(0, random.randint(0,30)):\n",
    "            key = random.choice(ruleset.keys())\n",
    "            newrule = random.choice(ruleset[key])\n",
    "            self.rules.append(newrule)\n",
    "        self.rules.sort(lambda x,y: cmp(len(y[0]), len(x[0])))\n",
    "        #print self.rules\n",
    "        \n",
    "    def generatorWins(self):\n",
    "        self.gameScore += 1\n",
    "        \n",
    "    def newGame(self):\n",
    "        self.scores.append(self.gameScore)\n",
    "        self.lastScore = self.gameScore\n",
    "        self.gameScore = 0\n",
    "        \n",
    "    def mutate(self):\n",
    "        self.rules.append(random.choice(random.choice(possibleGenRules)) + '-' + str(random.randint(0,1)))\n",
    "        del self.rules[random.randint(1, len(self.rules))-1]\n",
    "        self.rules.sort(lambda x,y: cmp(len(y), len(x)))\n",
    "        \n",
    "    def crossover(self, secondParent):\n",
    "        firstHalf = self.rules[0:len(self.rules)]\n",
    "        secondHalf = secondParent.rules[len(secondParent.rules):]\n",
    "        self.rules = firstHalf + secondHalf\n",
    "        return self\n",
    "        \n",
    "            \n",
    "def createAllGenRules(length):\n",
    "    \n",
    "    L = [\"\"]\n",
    "    for n in range(length):\n",
    "        tmp = []\n",
    "        for el in L:\n",
    "            tmp.append(el+'0')\n",
    "            tmp.append(el+'1')\n",
    "            tmp.append('')\n",
    "        L = tmp\n",
    "        \n",
    "    L = sorted(set(L))\n",
    "    \n",
    "    formRules = {}\n",
    "    \n",
    "    for i in xrange(length+1):\n",
    "        formRules[str(i)] = []\n",
    "        \n",
    "    for i in L:\n",
    "        formRules[str(len(i))].append((i, str(random.randint(0,1))))\n",
    "    formRules.pop('0', None)\n",
    "    return formRules\n",
    "\n",
    "possibleGenRules = createAllGenRules(10)"
   ]
  },
  {
   "cell_type": "code",
   "execution_count": 43,
   "metadata": {
    "collapsed": false
   },
   "outputs": [
    {
     "name": "stdout",
     "output_type": "stream",
     "text": [
      "randomlygenerate\n",
      "1\n",
      "randomlygenerate\n",
      "1\n",
      "randomlygenerate\n",
      "1\n",
      "randomlygenerate\n",
      "0\n",
      "0\n",
      "1\n",
      "randomlygenerate\n",
      "1\n",
      "randomlygenerate\n",
      "0\n",
      "1\n",
      "randomlygenerate\n",
      "1\n",
      "randomlygenerate\n",
      "1\n",
      "randomlygenerate\n",
      "0\n",
      "0\n",
      "1\n",
      "randomlygenerate\n",
      "0\n",
      "1\n",
      "randomlygenerate\n",
      "0\n",
      "1\n",
      "randomlygenerate\n",
      "1\n",
      "randomlygenerate\n",
      "0\n",
      "1\n",
      "randomlygenerate\n",
      "1\n",
      "randomlygenerate\n",
      "1\n",
      "randomlygenerate\n",
      "1\n",
      "randomlygenerate\n",
      "0\n",
      "0\n",
      "1\n",
      "randomlygenerate\n",
      "1\n",
      "randomlygenerate\n",
      "0\n",
      "1\n",
      "randomlygenerate\n",
      "1\n",
      "randomlygenerate\n",
      "1\n",
      "randomlygenerate\n",
      "1\n",
      "randomlygenerate\n",
      "0\n",
      "0\n",
      "1\n",
      "randomlygenerate\n",
      "1\n",
      "randomlygenerate\n",
      "0\n",
      "1\n",
      "randomlygenerate\n",
      "0\n",
      "1\n",
      "randomlygenerate\n",
      "0\n",
      "1\n",
      "randomlygenerate\n",
      "0\n",
      "1\n",
      "randomlygenerate\n",
      "0\n",
      "1\n",
      "randomlygenerate\n",
      "1\n",
      "randomlygenerate\n",
      "1\n",
      "randomlygenerate\n",
      "0\n",
      "0\n",
      "1\n",
      "randomlygenerate\n",
      "1\n",
      "randomlygenerate\n",
      "0\n",
      "1\n",
      "randomlygenerate\n",
      "0\n",
      "1\n",
      "randomlygenerate\n",
      "1\n",
      "randomlygenerate\n",
      "1\n",
      "randomlygenerate\n",
      "0\n",
      "0\n",
      "1\n",
      "randomlygenerate\n",
      "1\n",
      "randomlygenerate\n",
      "0\n",
      "1\n",
      "randomlygenerate\n",
      "0\n",
      "1\n",
      "randomlygenerate\n",
      "1\n",
      "randomlygenerate\n",
      "1\n",
      "randomlygenerate\n",
      "0\n",
      "0\n",
      "1\n",
      "randomlygenerate\n",
      "0\n",
      "1\n",
      "randomlygenerate\n",
      "0\n",
      "1\n",
      "randomlygenerate\n",
      "1\n",
      "randomlygenerate\n",
      "1\n",
      "randomlygenerate\n",
      "0\n",
      "0\n",
      "1\n",
      "randomlygenerate\n",
      "1\n",
      "randomlygenerate\n",
      "1\n",
      "randomlygenerate\n",
      "0\n",
      "0\n",
      "1\n",
      "randomlygenerate\n",
      "1\n",
      "randomlygenerate\n",
      "1\n",
      "randomlygenerate\n",
      "0\n",
      "0\n",
      "1\n",
      "randomlygenerate\n",
      "0\n",
      "1\n",
      "randomlygenerate\n",
      "0\n",
      "1\n",
      "randomlygenerate\n",
      "1\n",
      "randomlygenerate\n",
      "1\n",
      "randomlygenerate\n",
      "1\n",
      "randomlygenerate\n",
      "0\n",
      "0\n"
     ]
    },
    {
     "data": {
      "text/plain": [
       "'1110011011100101011011110011011110011010101010111001101011100110101110010101110011100111001010111100'"
      ]
     },
     "execution_count": 43,
     "metadata": {},
     "output_type": "execute_result"
    }
   ],
   "source": [
    "gen = Generator()\n",
    "gen.getRules(possibleGenRules)\n",
    "\n",
    "for i in range(100):\n",
    "    print gen.generate()\n",
    "gen.sequence"
   ]
  },
  {
   "cell_type": "code",
   "execution_count": 44,
   "metadata": {
    "collapsed": false
   },
   "outputs": [
    {
     "data": {
      "text/plain": [
       "[('0100001001', '0'),\n",
       " ('0001110001', '0'),\n",
       " ('010100001', '1'),\n",
       " ('101001', '0'),\n",
       " ('01000', '1'),\n",
       " ('0001', '0'),\n",
       " ('1110', '0'),\n",
       " ('10', '1'),\n",
       " ('00', '1')]"
      ]
     },
     "execution_count": 44,
     "metadata": {},
     "output_type": "execute_result"
    }
   ],
   "source": [
    "gen.rules"
   ]
  },
  {
   "cell_type": "code",
   "execution_count": 122,
   "metadata": {
    "collapsed": false
   },
   "outputs": [],
   "source": [
    "def playGame(numberOfPlayers, numOfGenerations):\n",
    "    predictionTeam = []\n",
    "    generationTeam = []\n",
    "    \n",
    "    genchampfitness = []\n",
    "    prechampfitness = []\n",
    "    \n",
    "    genAvgfitness = []\n",
    "    preAvgfitness = []\n",
    "    \n",
    "    for i in xrange(numberOfPlayers):\n",
    "        newPred = Predictor()\n",
    "        #newPred.getRules(possiblePreRules)\n",
    "        newGen = Generator()\n",
    "        #newGen.getRules(possibleGenRules)\n",
    "        predictionTeam.append(newPred)\n",
    "        generationTeam.append(newGen)\n",
    "    PreChamp = random.choice(predictionTeam)\n",
    "    GenChamp = random.choice(generationTeam)\n",
    "    \n",
    "    for generation in xrange(0, numOfGenerations):\n",
    "        for move in xrange(0,100):\n",
    "            championPrediction = PreChamp.predict(GenChamp)\n",
    "            championGeneration = GenChamp.generate()\n",
    "            for predPlayer in predictionTeam:\n",
    "                playerPrediction = predPlayer.predict(GenChamp)\n",
    "                if playerPrediction == championGeneration:\n",
    "                    predPlayer.predictorWins()\n",
    "            for genPlayer in generationTeam:\n",
    "                playerGeneration = genPlayer.generate()\n",
    "                if playerGeneration != championPrediction:\n",
    "                    genPlayer.generatorWins()\n",
    "                        \n",
    "\n",
    "        predictionTeam = sorted(predictionTeam, key=lambda player: fitness(player) , reverse = True)\n",
    "        generationTeam = sorted(generationTeam, key=lambda player: fitness(player) , reverse = True)\n",
    "        \n",
    "        PreChamp = predictionTeam[0]\n",
    "        GenChamp = generationTeam[0]\n",
    "\n",
    "        for i in xrange(0, int(numberOfPlayers/2)):\n",
    "            predictionTeam[i].mutate()\n",
    "            generationTeam[i].mutate()\n",
    "\n",
    "        #predictorsToXover = predictionTeam[int(numberOfPlayers/2):numberOfPlayers]\n",
    "        #generatorsToXover = generationTeam[int(numberOfPlayers/2):numberOfPlayers]\n",
    "        #for i in xrange(int(numberOfPlayers/2), numberOfPlayers):\n",
    "        #    predictionTeam[i] = random.choice(predictorsToXover).crossover(random.choice(predictorsToXover))\n",
    "        #    generationTeam[i] = random.choice(generatorsToXover).crossover(random.choice(generatorsToXover))\n",
    "\n",
    "        #print \"Predictor champion fitness : \" + str(fitness(PreChamp))\n",
    "        #print \"Generator champion fitness : \" + str(fitness(GenChamp))\n",
    "        genchampfitness.append(fitness(PreChamp))\n",
    "        prechampfitness.append(fitness(GenChamp))\n",
    "        \n",
    "        genAvgfitness.append(sum(fitness(player) for player in generationTeam)/len(generationTeam))\n",
    "        preAvgfitness.append(sum(fitness(player) for player in predictionTeam)/len(predictionTeam))\n",
    "        \n",
    "        #for i in predictionTeam:\n",
    "        #    print \"GS : \" + str(i.gameScore) + \"    \" + \"LS : \" + str(i.lastScore)\n",
    "        #for i in generationTeam:\n",
    "        #    print \"GS : \" + str(i.gameScore) + \"    \" + \"LS : \" + str(i.lastScore)\n",
    "        \n",
    "        print GenChamp.rules\n",
    "        for i in generationTeam:\n",
    "            i.newGame()\n",
    "        for i in predictionTeam:\n",
    "            i.newGame()\n",
    "        \n",
    "        \n",
    "    plt.plot(genchampfitness, label='Generator Champ Fitness')\n",
    "    plt.plot(prechampfitness, label='Predictor Champ Fitness')\n",
    "    plt.plot(genAvgfitness, label='Generator Average Fitness')\n",
    "    plt.plot(preAvgfitness, label='Predictor Average Fitness')    \n",
    "    plt.ylabel('Fitness')    \n",
    "    plt.xlabel('Generation')\n",
    "    plt.legend(bbox_to_anchor=(1.05, 1), loc=2, borderaxespad=0.)\n",
    "    plt.show()\n",
    "        # keep top x% players\n",
    "        # mutate and Xover parents\n",
    "        # get new Population\n",
    "        # play again"
   ]
  },
  {
   "cell_type": "code",
   "execution_count": 123,
   "metadata": {
    "collapsed": true
   },
   "outputs": [],
   "source": [
    "def fitness(player): \n",
    "    return player.gameScore*0.7 + player.lastScore*0.3"
   ]
  },
  {
   "cell_type": "code",
   "execution_count": 124,
   "metadata": {
    "collapsed": false
   },
   "outputs": [
    {
     "name": "stdout",
     "output_type": "stream",
     "text": [
      "[]\n",
      "[]\n",
      "[]\n",
      "[]\n",
      "[]\n",
      "[]\n",
      "[]\n",
      "[]\n",
      "[]\n",
      "[]\n"
     ]
    },
    {
     "data": {
      "image/png": "[encoded data removed]",
      "text/plain": [
       "<matplotlib.figure.Figure at 0x7f0466a1b190>"
      ]
     },
     "metadata": {},
     "output_type": "display_data"
    }
   ],
   "source": [
    "playGame(100,10)"
   ]
  },
  {
   "cell_type": "code",
   "execution_count": 146,
   "metadata": {
    "collapsed": false
   },
   "outputs": [
    {
     "name": "stdout",
     "output_type": "stream",
     "text": [
      "[('', 0), ('0', 1), ('00', 0), ('000', 1), ('0000', 0), ('0001', 1), ('001', 0), ('0010', 0), ('0011', 1), ('01', 1), ('010', 1), ('0101', 0), ('010X', 0), ('011', 1), ('0110', 0), ('0111', 1), ('0X', 1), ('1', 0), ('10', 0), ('100', 1), ('1000', 1), ('1001', 1), ('101', 0), ('1010', 0), ('1011', 0), ('11', 0), ('110', 0), ('1100', 0), ('1101', 0), ('111', 1), ('1110', 1), ('1111', 0), ('X', 0)]\n"
     ]
    }
   ],
   "source": [
    "L = ['']\n",
    "for n in range(4):\n",
    "    tmp = []\n",
    "    for el in L:\n",
    "        if random.random() < 0.9:\n",
    "            tmp.append(el+'0')\n",
    "        else:\n",
    "            tmp.append(el+'X')\n",
    "            \n",
    "        if random.random() < 0.9:\n",
    "            tmp.append(el+'1')\n",
    "        else:\n",
    "            tmp.append(el+'X')\n",
    "        tmp.append('')\n",
    "    L = tmp\n",
    "L = sorted(set(L))\n",
    "withpred = []  \n",
    "for i in L:\n",
    "    withpred.append((i, random.randint(0,1)))\n",
    "    \n",
    "print withpred"
   ]
  },
  {
   "cell_type": "code",
   "execution_count": 147,
   "metadata": {
    "collapsed": false
   },
   "outputs": [
    {
     "name": "stdout",
     "output_type": "stream",
     "text": [
      "[('', 1), ('0', 1), ('00', 0), ('000', 0), ('0000', 0), ('0001', 0), ('001', 1), ('0010', 0), ('0011', 1), ('01', 1), ('010', 0), ('0100', 1), ('0101', 0), ('011', 0), ('0110', 0), ('0111', 1), ('1', 0), ('10', 0), ('100', 0), ('1000', 0), ('1001', 1), ('101', 0), ('1010', 1), ('1011', 0), ('11', 0), ('110', 1), ('1100', 1), ('1101', 1), ('111', 1), ('1110', 0), ('1111', 1)]\n"
     ]
    }
   ],
   "source": [
    "L = ['']\n",
    "for n in range(4):\n",
    "    tmp = []\n",
    "    for el in L:\n",
    "        tmp.append(el+'0')\n",
    "        tmp.append(el+'1')\n",
    "        tmp.append('')\n",
    "    L = tmp\n",
    "L = sorted(set(L))\n",
    "withpred = []  \n",
    "for i in L:\n",
    "    withpred.append((i, random.randint(0,1)))\n",
    "    \n",
    "print withpred"
   ]
  },
  {
   "cell_type": "code",
   "execution_count": 220,
   "metadata": {
    "collapsed": false
   },
   "outputs": [
    {
     "data": {
      "text/plain": [
       "{'b': [123, 123, 123]}"
      ]
     },
     "execution_count": 220,
     "metadata": {},
     "output_type": "execute_result"
    }
   ],
   "source": [
    "list1=1\n",
    "list2=123\n",
    "d={'a':[],'b':[]}\n",
    "d['a'].append(list1)\n",
    "d['b'].append(list2)\n",
    "d['a'].append(list1)\n",
    "d['b'].append(list2)\n",
    "d['a'].append(list1)\n",
    "d['b'].append(list2)\n",
    "key = random.choice(d.keys())\n",
    "d[key]\n",
    "d.pop(\"a\", None)\n",
    "d"
   ]
  },
  {
   "cell_type": "code",
   "execution_count": 17,
   "metadata": {
    "collapsed": false
   },
   "outputs": [
    {
     "data": {
      "text/plain": [
       "'andint(0,1))'"
      ]
     },
     "execution_count": 17,
     "metadata": {},
     "output_type": "execute_result"
    }
   ],
   "source": [
    "'str(random.randint(0,1))'[-12:]"
   ]
  },
  {
   "cell_type": "code",
   "execution_count": null,
   "metadata": {
    "collapsed": true
   },
   "outputs": [],
   "source": []
  }
 ],
 "metadata": {
  "kernelspec": {
   "display_name": "Python 2",
   "language": "python",
   "name": "python2"
  },
  "language_info": {
   "codemirror_mode": {
    "name": "ipython",
    "version": 2
   },
   "file_extension": ".py",
   "mimetype": "text/x-python",
   "name": "python",
   "nbconvert_exporter": "python",
   "pygments_lexer": "ipython2",
   "version": "2.7.11"
  }
 },
 "nbformat": 4,
 "nbformat_minor": 0
}
