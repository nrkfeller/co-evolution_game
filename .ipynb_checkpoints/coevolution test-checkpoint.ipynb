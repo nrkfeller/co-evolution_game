{
 "cells": [
  {
   "cell_type": "code",
   "execution_count": 1,
   "metadata": {
    "collapsed": true
   },
   "outputs": [],
   "source": [
    "import random\n",
    "import names"
   ]
  },
  {
   "cell_type": "code",
   "execution_count": 79,
   "metadata": {
    "collapsed": false
   },
   "outputs": [],
   "source": [
    "class Predictor(object):\n",
    "    \"\"\"\n",
    "    The predictor attemps to guess what the generator will produce.\n",
    "    He gains a point if he predicts accurately and looses one if he doesn't\n",
    "    \"\"\"\n",
    "    def __init__(self):\n",
    "        self.name = names.get_full_name()\n",
    "        self.rules = []\n",
    "        self.scores = []\n",
    "        self.gameScore = 0\n",
    "        self.lastScore = 0\n",
    "        # make players start with some rules\n",
    "    \n",
    "    def getNewRule(self, possiblePreRules):\n",
    "        self.rules.append(random.choice(random.choice(possiblePreRules)) + '-' + str(random.randint(0,1)))\n",
    "        self.rules.sort(lambda x,y: cmp(len(y), len(x)))\n",
    "        #print self.rules\n",
    "    \n",
    "    def getLastScore(self):\n",
    "        if len(self.scores) > 2:\n",
    "            return self.scores[-2]\n",
    "        return 0\n",
    "    \n",
    "    def getCurrentScore(self):\n",
    "        if len(self.scores) > 1:\n",
    "            return self.scores[-1]\n",
    "        return 0\n",
    "        \n",
    "    def predict(self, generator):\n",
    "        #generator.sequence\n",
    "        \n",
    "        def areEquivalent(rs, gc):\n",
    "            rs = list(rs)\n",
    "            gc = list(gc)\n",
    "            for i in xrange(0,len(gc)):\n",
    "                if rs[i] == 'X':\n",
    "                    rs[i] = gc[i]\n",
    "            if rs == gc:\n",
    "                #print str(True),rs,gc\n",
    "                return True\n",
    "            #print str(False),rs,gc\n",
    "            return False\n",
    "                    \n",
    "        #print generator.sequence\n",
    "        for rule in self.rules:\n",
    "            ruleSeq = rule.split('-')\n",
    "            genChunk = generator.sequence[-len(ruleSeq[0]):]\n",
    "            if areEquivalent(ruleSeq[0], genChunk):\n",
    "                #print \"rule predicting\", ruleSeq[0], genChunk, ruleSeq[1]\n",
    "                return ruleSeq[1]\n",
    "        #print \"random predicted\"\n",
    "        return str(random.randint(0,1))\n",
    "    \n",
    "    def predictorWins(self):\n",
    "        self.gameScore += 1\n",
    "        \n",
    "    def newGame(self):\n",
    "        self.scores + [gameScore]\n",
    "        #self.lastScore = self.gameScore\n",
    "        self.gameScore = 0\n",
    "        \n",
    "    def mutate(self):\n",
    "        self.rules.append(random.choice(random.choice(possiblePreRules)) + '-' + str(random.randint(0,1)))\n",
    "        del self.rules[random.randint(1,len(self.rules))-1]\n",
    "        self.rules.sort(lambda x,y: cmp(len(y), len(x)))\n",
    "        \n",
    "    def crossover(self, secondParent):\n",
    "        firstHalf = self.rules[0:len(self.rules)]\n",
    "        secondHalf = secondParent.rules[len(secondParent.rules):]\n",
    "        self.rules = firstHalf + secondHalf\n",
    "        return self\n",
    "        \n",
    "                \n",
    "        \n",
    "    \n",
    "    \n",
    "def createAllPreRules(length):\n",
    "    def createAllBin(thelist, length):\n",
    "        if length == 0:\n",
    "            allpossibilities.append(thelist)\n",
    "        else:\n",
    "            if random.random() < 0.9:\n",
    "                createAllBin(thelist+'1', length-1)\n",
    "            else:\n",
    "                createAllBin(thelist+'X', length-1)\n",
    "            if random.random() < 0.9:\n",
    "                createAllBin(thelist+'0', length-1)\n",
    "            else:\n",
    "                createAllBin(thelist+'X', length-1)\n",
    "\n",
    "    allpossibilities = []\n",
    "\n",
    "    for i in range(1,length):\n",
    "        createAllBin('', i)\n",
    "\n",
    "    formatedpossibilities = []\n",
    "    for i in range(0,length-1):\n",
    "        formatedpossibilities.append([])\n",
    "    for i in allpossibilities:\n",
    "        formatedpossibilities[len(i)-1].append(i)\n",
    "\n",
    "    return formatedpossibilities\n",
    "\n",
    "possiblePreRules = createAllPreRules(10)"
   ]
  },
  {
   "cell_type": "code",
   "execution_count": 80,
   "metadata": {
    "collapsed": false
   },
   "outputs": [
    {
     "data": {
      "text/plain": [
       "'myPre = Predictor(\"bob\")\\nmyPre.getNewRule(possiblePreRules)\\nmyPre.getNewRule(possiblePreRules)\\nmyPre.getNewRule(possiblePreRules)\\nmyPre.getNewRule(possiblePreRules)\\nmyPre.getNewRule(possiblePreRules)\\nmyPre.getNewRule(possiblePreRules)\\nmyPre.getNewRule(possiblePreRules)\\nmyPre.getNewRule(possiblePreRules)\\nmyPre.getNewRule(possiblePreRules)\\nmyPre.getNewRule(possiblePreRules)\\nmyPre.getNewRule(possiblePreRules)\\nmyPre.getNewRule(possiblePreRules)'"
      ]
     },
     "execution_count": 80,
     "metadata": {},
     "output_type": "execute_result"
    }
   ],
   "source": [
    "\"\"\"myPre = Predictor(\"bob\")\n",
    "myPre.getNewRule(possiblePreRules)\n",
    "myPre.getNewRule(possiblePreRules)\n",
    "myPre.getNewRule(possiblePreRules)\n",
    "myPre.getNewRule(possiblePreRules)\n",
    "myPre.getNewRule(possiblePreRules)\n",
    "myPre.getNewRule(possiblePreRules)\n",
    "myPre.getNewRule(possiblePreRules)\n",
    "myPre.getNewRule(possiblePreRules)\n",
    "myPre.getNewRule(possiblePreRules)\n",
    "myPre.getNewRule(possiblePreRules)\n",
    "myPre.getNewRule(possiblePreRules)\n",
    "myPre.getNewRule(possiblePreRules)\"\"\""
   ]
  },
  {
   "cell_type": "code",
   "execution_count": 81,
   "metadata": {
    "collapsed": false
   },
   "outputs": [
    {
     "data": {
      "text/plain": [
       "'myPre.rules'"
      ]
     },
     "execution_count": 81,
     "metadata": {},
     "output_type": "execute_result"
    }
   ],
   "source": [
    "\"\"\"myPre.rules\"\"\""
   ]
  },
  {
   "cell_type": "code",
   "execution_count": 73,
   "metadata": {
    "collapsed": false
   },
   "outputs": [],
   "source": [
    "import random\n",
    "\n",
    "class Generator(object):\n",
    "    \"\"\"\n",
    "    The generator generates a string of 1's and 0's.\n",
    "    If the predictor has accurately predicted his next element he looses a point, and if not he gains one\n",
    "    \"\"\"\n",
    "    possibleRules = []\n",
    "    \n",
    "    def __init__(self):\n",
    "        self.name = names.get_full_name()\n",
    "        self.rules = []\n",
    "        self.sequence = ''\n",
    "        self.gameScore = 0\n",
    "        self.lastScore = 0\n",
    "        self.scores = []\n",
    "        \n",
    "    def generate(self):\n",
    "        \n",
    "        for rule in self.rules:\n",
    "            ruleSeq = rule.split('-')\n",
    "            if ruleSeq[0] == self.sequence[-len(ruleSeq):]:\n",
    "                #print \"rule generated\",rule\n",
    "                self.sequence += rule[1]\n",
    "                return rule[1]\n",
    "        nextItem = str(random.randint(0,1))\n",
    "        self.sequence += nextItem\n",
    "        #print \"random generated\", nextItem\n",
    "        return nextItem\n",
    "    \n",
    "    def getLastScore(self):\n",
    "        if len(self.scores) > 2:\n",
    "            return self.scores[-2]\n",
    "        return 0\n",
    "    \n",
    "    def getCurrentScore(self):\n",
    "        if len(self.scores) > 1:\n",
    "            return self.scores[-1]\n",
    "        return 0\n",
    "        \n",
    "    def getNewRule(self, possibleGenRules):\n",
    "        self.rules.append(random.choice(random.choice(possibleGenRules)) + '-' + str(random.randint(0,1)))\n",
    "        self.rules.sort(lambda x,y: cmp(len(y), len(x)))\n",
    "        #print self.rules\n",
    "        \n",
    "    def generatorWins(self):\n",
    "        self.gameScore += 1\n",
    "        \n",
    "    def newGame(self):\n",
    "        self.scores + [gameScore]\n",
    "        #self.lastScore = self.gameScore\n",
    "        self.gameScore = 0\n",
    "        \n",
    "    def mutate(self):\n",
    "        self.rules.append(random.choice(random.choice(possibleGenRules)) + '-' + str(random.randint(0,1)))\n",
    "        del self.rules[random.randint(1, len(self.rules))-1]\n",
    "        self.rules.sort(lambda x,y: cmp(len(y), len(x)))\n",
    "        \n",
    "    def crossover(self, secondParent):\n",
    "        firstHalf = self.rules[0:len(self.rules)]\n",
    "        secondHalf = secondParent.rules[len(secondParent.rules):]\n",
    "        self.rules = firstHalf + secondHalf\n",
    "        return self\n",
    "        \n",
    "            \n",
    "def createAllGenRules(length):\n",
    "    def createAllBin(thelist, length):\n",
    "        if length == 0:\n",
    "            allpossibilities.append(thelist)\n",
    "        else:\n",
    "            createAllBin(thelist+'1', length-1)\n",
    "            createAllBin(thelist+'0', length-1)\n",
    "\n",
    "    allpossibilities = []\n",
    "\n",
    "    for i in range(1,length):\n",
    "        createAllBin('', i)\n",
    "\n",
    "    formatedpossibilities = []\n",
    "    for i in range(0,length-1):\n",
    "        formatedpossibilities.append([])\n",
    "    for i in allpossibilities:\n",
    "        formatedpossibilities[len(i)-1].append(i)\n",
    "\n",
    "    return formatedpossibilities\n",
    "\n",
    "possibleGenRules = createAllGenRules(10)\n",
    "    \n"
   ]
  },
  {
   "cell_type": "code",
   "execution_count": 46,
   "metadata": {
    "collapsed": false
   },
   "outputs": [
    {
     "data": {
      "text/plain": [
       "'myGen = Generator(\"nick\")\\nmyGen.getNewRule(possibleGenRules)\\nmyGen.getNewRule(possibleGenRules)\\nmyGen.getNewRule(possibleGenRules)\\nmyGen.getNewRule(possibleGenRules)\\nmyGen.getNewRule(possibleGenRules)\\nmyGen.getNewRule(possibleGenRules)\\nmyGen.getNewRule(possibleGenRules)\\nmyGen.getNewRule(possibleGenRules)\\nmyGen.getNewRule(possibleGenRules)\\nmyGen.getNewRule(possibleGenRules)\\nmyGen.getNewRule(possibleGenRules)\\nmyGen.getNewRule(possibleGenRules)\\nmyGen.getNewRule(possibleGenRules)\\nmyGen.getNewRule(possibleGenRules)\\nmyGen.getNewRule(possibleGenRules)\\nmyGen.getNewRule(possibleGenRules)\\nmyGen.rules'"
      ]
     },
     "execution_count": 46,
     "metadata": {},
     "output_type": "execute_result"
    }
   ],
   "source": [
    "\"\"\"myGen = Generator(\"nick\")\n",
    "myGen.getNewRule(possibleGenRules)\n",
    "myGen.getNewRule(possibleGenRules)\n",
    "myGen.getNewRule(possibleGenRules)\n",
    "myGen.getNewRule(possibleGenRules)\n",
    "myGen.getNewRule(possibleGenRules)\n",
    "myGen.getNewRule(possibleGenRules)\n",
    "myGen.getNewRule(possibleGenRules)\n",
    "myGen.getNewRule(possibleGenRules)\n",
    "myGen.getNewRule(possibleGenRules)\n",
    "myGen.getNewRule(possibleGenRules)\n",
    "myGen.getNewRule(possibleGenRules)\n",
    "myGen.getNewRule(possibleGenRules)\n",
    "myGen.getNewRule(possibleGenRules)\n",
    "myGen.getNewRule(possibleGenRules)\n",
    "myGen.getNewRule(possibleGenRules)\n",
    "myGen.getNewRule(possibleGenRules)\n",
    "myGen.rules\"\"\""
   ]
  },
  {
   "cell_type": "code",
   "execution_count": 47,
   "metadata": {
    "collapsed": false
   },
   "outputs": [
    {
     "data": {
      "text/plain": [
       "'\\nfor i in xrange(10):\\n    prediction = myPre.predict(myGen)\\n    generated = myGen.generate()\\n    print \"choices\", prediction, generated\\n    if prediction == generated:\\n        print \"p wins\"\\n    else:\\n        print \"g wins\"\\n\\nprint myGen.sequence'"
      ]
     },
     "execution_count": 47,
     "metadata": {},
     "output_type": "execute_result"
    }
   ],
   "source": [
    "\"\"\"\n",
    "for i in xrange(10):\n",
    "    prediction = myPre.predict(myGen)\n",
    "    generated = myGen.generate()\n",
    "    print \"choices\", prediction, generated\n",
    "    if prediction == generated:\n",
    "        print \"p wins\"\n",
    "    else:\n",
    "        print \"g wins\"\n",
    "\n",
    "print myGen.sequence\"\"\""
   ]
  },
  {
   "cell_type": "code",
   "execution_count": 102,
   "metadata": {
    "collapsed": false
   },
   "outputs": [],
   "source": [
    "def playGame(numberOfPlayers, numOfGenerations):\n",
    "    predictionTeam = []\n",
    "    generationTeam = []\n",
    "    \n",
    "    genchampfitness = []\n",
    "    prechampfitness = []\n",
    "    \n",
    "    genAvgfitness = []\n",
    "    preAvgfitness = []\n",
    "    \n",
    "    for i in range(numberOfPlayers):\n",
    "        newPred = Predictor()\n",
    "        newGen = Generator()\n",
    "        predictionTeam.append(newPred)\n",
    "        generationTeam.append(newGen)\n",
    "    PreChamp = random.choice(predictionTeam)\n",
    "    GenChamp = random.choice(generationTeam)\n",
    "    \n",
    "    for generation in xrange(0, numOfGenerations):\n",
    "        for move in xrange(0,100):\n",
    "            championPrediction = PreChamp.predict(GenChamp)\n",
    "            championGeneration = GenChamp.generate()\n",
    "            for predPlayer in predictionTeam:\n",
    "                playerPrediction = predPlayer.predict(GenChamp)\n",
    "                if playerPrediction == championGeneration:\n",
    "                    predPlayer.predictorWins()\n",
    "            for genPlayer in generationTeam:\n",
    "                playerGeneration = genPlayer.generate()\n",
    "                if playerGeneration != championPrediction:\n",
    "                    genPlayer.generatorWins()\n",
    "\n",
    "        predictionTeam = sorted(predictionTeam, key=lambda player: fitness(player) , reverse = True)\n",
    "        generationTeam = sorted(generationTeam, key=lambda player: fitness(player) , reverse = True)\n",
    "        \n",
    "        \n",
    "        #for i in predictionTeam:\n",
    "        #    print i\n",
    "        \n",
    "        PreChamp = predictionTeam[0]\n",
    "        GenChamp = generationTeam[0]\n",
    "\n",
    "        for i in xrange(1, int(numberOfPlayers/2)):\n",
    "            predictionTeam[i].mutate()\n",
    "            generationTeam[i].mutate()\n",
    "\n",
    "        predictorsToXover = predictionTeam[int(numberOfPlayers/2):numberOfPlayers]\n",
    "        generatorsToXover = generationTeam[int(numberOfPlayers/2):numberOfPlayers]\n",
    "        for i in xrange(int(numberOfPlayers/2), numberOfPlayers):\n",
    "            predictionTeam[i] = random.choice(predictorsToXover).crossover(random.choice(predictorsToXover))\n",
    "            generationTeam[i] = random.choice(generatorsToXover).crossover(random.choice(generatorsToXover))\n",
    "\n",
    "        genchampfitness.append(fitness(PreChamp))\n",
    "        prechampfitness.append(fitness(GenChamp))\n",
    "        \n",
    "        #add average fitness\n",
    "        \n",
    "        #print \"Predictor champion fitness : \" + str(fitness(PreChamp))\n",
    "        #print \"Generator champion fitness : \" + str(fitness(GenChamp))\n",
    "        \n",
    "        for i in generationTeam:\n",
    "            i.newGame()\n",
    "        for i in predictionTeam:\n",
    "            i.newGame()\n",
    "        \n",
    "        \n",
    "    plt.plot(genchampfitness)\n",
    "    plt.plot(prechampfitness)\n",
    "    plt.ylabel('some numbers')\n",
    "    plt.show()\n",
    "    \n",
    "        # keep top x% players\n",
    "        # mutate and Xover parents\n",
    "        # get new Population\n",
    "        # play again"
   ]
  },
  {
   "cell_type": "code",
   "execution_count": 103,
   "metadata": {
    "collapsed": false
   },
   "outputs": [
    {
     "data": {
      "image/png": "[encoded data removed]",
      "text/html": [
       "\n",
       "\n",
       "<style>\n",
       "\n",
       "</style>\n",
       "\n",
       "<div id=\"fig_el54631402144553740323602261512\"></div>\n",
       "<script>\n",
       "function mpld3_load_lib(url, callback){\n",
       "  var s = document.createElement('script');\n",
       "  s.src = url;\n",
       "  s.async = true;\n",
       "  s.onreadystatechange = s.onload = callback;\n",
       "  s.onerror = function(){console.warn(\"failed to load library \" + url);};\n",
       "  document.getElementsByTagName(\"head\")[0].appendChild(s);\n",
       "}\n",
       "\n",
       "if(typeof(mpld3) !== \"undefined\" && mpld3._mpld3IsLoaded){\n",
       "   // already loaded: just create the figure\n",
       "   !function(mpld3){\n",
       "       \n",
       "       mpld3.draw_figure(\"fig_el54631402144553740323602261512\", {\"axes\": [{\"xlim\": [0.0, 40.0], \"yscale\": \"linear\", \"axesbg\": \"#FFFFFF\", \"texts\": [{\"v_baseline\": \"auto\", \"h_anchor\": \"middle\", \"color\": \"#000000\", \"text\": \"some numbers\", \"coordinates\": \"axes\", \"zorder\": 3, \"alpha\": 1, \"fontsize\": 10.0, \"position\": [-0.11928763440860213, 0.5], \"rotation\": -90.0, \"id\": \"el5463140214456037712\"}], \"zoomable\": true, \"images\": [], \"xdomain\": [0.0, 40.0], \"ylim\": [-0.059999999999999998, 0.059999999999999998], \"paths\": [], \"sharey\": [], \"sharex\": [], \"axesbgalpha\": null, \"axes\": [{\"scale\": \"linear\", \"tickformat\": null, \"grid\": {\"gridOn\": false}, \"fontsize\": 10.0, \"position\": \"bottom\", \"nticks\": 9, \"tickvalues\": null}, {\"scale\": \"linear\", \"tickformat\": null, \"grid\": {\"gridOn\": false}, \"fontsize\": 10.0, \"position\": \"left\", \"nticks\": 7, \"tickvalues\": null}], \"lines\": [{\"color\": \"#0000FF\", \"yindex\": 1, \"coordinates\": \"data\", \"dasharray\": \"10,0\", \"zorder\": 2, \"alpha\": 1, \"xindex\": 0, \"linewidth\": 1.0, \"data\": \"data01\", \"id\": \"el5463140214465704912\"}, {\"color\": \"#007F00\", \"yindex\": 1, \"coordinates\": \"data\", \"dasharray\": \"10,0\", \"zorder\": 2, \"alpha\": 1, \"xindex\": 0, \"linewidth\": 1.0, \"data\": \"data01\", \"id\": \"el5463140214465706256\"}], \"markers\": [], \"id\": \"el5463140214457005264\", \"ydomain\": [-0.059999999999999998, 0.059999999999999998], \"collections\": [], \"xscale\": \"linear\", \"bbox\": [0.125, 0.125, 0.77500000000000002, 0.77500000000000002]}], \"height\": 320.0, \"width\": 480.0, \"plugins\": [{\"type\": \"reset\"}, {\"enabled\": false, \"button\": true, \"type\": \"zoom\"}, {\"enabled\": false, \"button\": true, \"type\": \"boxzoom\"}], \"data\": {\"data01\": [[0.0, 0.0], [1.0, 0.0], [2.0, 0.0], [3.0, 0.0], [4.0, 0.0], [5.0, 0.0], [6.0, 0.0], [7.0, 0.0], [8.0, 0.0], [9.0, 0.0], [10.0, 0.0], [11.0, 0.0], [12.0, 0.0], [13.0, 0.0], [14.0, 0.0], [15.0, 0.0], [16.0, 0.0], [17.0, 0.0], [18.0, 0.0], [19.0, 0.0], [20.0, 0.0], [21.0, 0.0], [22.0, 0.0], [23.0, 0.0], [24.0, 0.0], [25.0, 0.0], [26.0, 0.0], [27.0, 0.0], [28.0, 0.0], [29.0, 0.0], [30.0, 0.0], [31.0, 0.0], [32.0, 0.0], [33.0, 0.0], [34.0, 0.0], [35.0, 0.0], [36.0, 0.0], [37.0, 0.0], [38.0, 0.0], [39.0, 0.0]]}, \"id\": \"el5463140214455374032\"});\n",
       "   }(mpld3);\n",
       "}else if(typeof define === \"function\" && define.amd){\n",
       "   // require.js is available: use it to load d3/mpld3\n",
       "   require.config({paths: {d3: \"https://mpld3.github.io/js/d3.v3.min\"}});\n",
       "   require([\"d3\"], function(d3){\n",
       "      window.d3 = d3;\n",
       "      mpld3_load_lib(\"https://mpld3.github.io/js/mpld3.v0.2.js\", function(){\n",
       "         \n",
       "         mpld3.draw_figure(\"fig_el54631402144553740323602261512\", {\"axes\": [{\"xlim\": [0.0, 40.0], \"yscale\": \"linear\", \"axesbg\": \"#FFFFFF\", \"texts\": [{\"v_baseline\": \"auto\", \"h_anchor\": \"middle\", \"color\": \"#000000\", \"text\": \"some numbers\", \"coordinates\": \"axes\", \"zorder\": 3, \"alpha\": 1, \"fontsize\": 10.0, \"position\": [-0.11928763440860213, 0.5], \"rotation\": -90.0, \"id\": \"el5463140214456037712\"}], \"zoomable\": true, \"images\": [], \"xdomain\": [0.0, 40.0], \"ylim\": [-0.059999999999999998, 0.059999999999999998], \"paths\": [], \"sharey\": [], \"sharex\": [], \"axesbgalpha\": null, \"axes\": [{\"scale\": \"linear\", \"tickformat\": null, \"grid\": {\"gridOn\": false}, \"fontsize\": 10.0, \"position\": \"bottom\", \"nticks\": 9, \"tickvalues\": null}, {\"scale\": \"linear\", \"tickformat\": null, \"grid\": {\"gridOn\": false}, \"fontsize\": 10.0, \"position\": \"left\", \"nticks\": 7, \"tickvalues\": null}], \"lines\": [{\"color\": \"#0000FF\", \"yindex\": 1, \"coordinates\": \"data\", \"dasharray\": \"10,0\", \"zorder\": 2, \"alpha\": 1, \"xindex\": 0, \"linewidth\": 1.0, \"data\": \"data01\", \"id\": \"el5463140214465704912\"}, {\"color\": \"#007F00\", \"yindex\": 1, \"coordinates\": \"data\", \"dasharray\": \"10,0\", \"zorder\": 2, \"alpha\": 1, \"xindex\": 0, \"linewidth\": 1.0, \"data\": \"data01\", \"id\": \"el5463140214465706256\"}], \"markers\": [], \"id\": \"el5463140214457005264\", \"ydomain\": [-0.059999999999999998, 0.059999999999999998], \"collections\": [], \"xscale\": \"linear\", \"bbox\": [0.125, 0.125, 0.77500000000000002, 0.77500000000000002]}], \"height\": 320.0, \"width\": 480.0, \"plugins\": [{\"type\": \"reset\"}, {\"enabled\": false, \"button\": true, \"type\": \"zoom\"}, {\"enabled\": false, \"button\": true, \"type\": \"boxzoom\"}], \"data\": {\"data01\": [[0.0, 0.0], [1.0, 0.0], [2.0, 0.0], [3.0, 0.0], [4.0, 0.0], [5.0, 0.0], [6.0, 0.0], [7.0, 0.0], [8.0, 0.0], [9.0, 0.0], [10.0, 0.0], [11.0, 0.0], [12.0, 0.0], [13.0, 0.0], [14.0, 0.0], [15.0, 0.0], [16.0, 0.0], [17.0, 0.0], [18.0, 0.0], [19.0, 0.0], [20.0, 0.0], [21.0, 0.0], [22.0, 0.0], [23.0, 0.0], [24.0, 0.0], [25.0, 0.0], [26.0, 0.0], [27.0, 0.0], [28.0, 0.0], [29.0, 0.0], [30.0, 0.0], [31.0, 0.0], [32.0, 0.0], [33.0, 0.0], [34.0, 0.0], [35.0, 0.0], [36.0, 0.0], [37.0, 0.0], [38.0, 0.0], [39.0, 0.0]]}, \"id\": \"el5463140214455374032\"});\n",
       "      });\n",
       "    });\n",
       "}else{\n",
       "    // require.js not available: dynamically load d3 & mpld3\n",
       "    mpld3_load_lib(\"https://mpld3.github.io/js/d3.v3.min.js\", function(){\n",
       "         mpld3_load_lib(\"https://mpld3.github.io/js/mpld3.v0.2.js\", function(){\n",
       "                 \n",
       "                 mpld3.draw_figure(\"fig_el54631402144553740323602261512\", {\"axes\": [{\"xlim\": [0.0, 40.0], \"yscale\": \"linear\", \"axesbg\": \"#FFFFFF\", \"texts\": [{\"v_baseline\": \"auto\", \"h_anchor\": \"middle\", \"color\": \"#000000\", \"text\": \"some numbers\", \"coordinates\": \"axes\", \"zorder\": 3, \"alpha\": 1, \"fontsize\": 10.0, \"position\": [-0.11928763440860213, 0.5], \"rotation\": -90.0, \"id\": \"el5463140214456037712\"}], \"zoomable\": true, \"images\": [], \"xdomain\": [0.0, 40.0], \"ylim\": [-0.059999999999999998, 0.059999999999999998], \"paths\": [], \"sharey\": [], \"sharex\": [], \"axesbgalpha\": null, \"axes\": [{\"scale\": \"linear\", \"tickformat\": null, \"grid\": {\"gridOn\": false}, \"fontsize\": 10.0, \"position\": \"bottom\", \"nticks\": 9, \"tickvalues\": null}, {\"scale\": \"linear\", \"tickformat\": null, \"grid\": {\"gridOn\": false}, \"fontsize\": 10.0, \"position\": \"left\", \"nticks\": 7, \"tickvalues\": null}], \"lines\": [{\"color\": \"#0000FF\", \"yindex\": 1, \"coordinates\": \"data\", \"dasharray\": \"10,0\", \"zorder\": 2, \"alpha\": 1, \"xindex\": 0, \"linewidth\": 1.0, \"data\": \"data01\", \"id\": \"el5463140214465704912\"}, {\"color\": \"#007F00\", \"yindex\": 1, \"coordinates\": \"data\", \"dasharray\": \"10,0\", \"zorder\": 2, \"alpha\": 1, \"xindex\": 0, \"linewidth\": 1.0, \"data\": \"data01\", \"id\": \"el5463140214465706256\"}], \"markers\": [], \"id\": \"el5463140214457005264\", \"ydomain\": [-0.059999999999999998, 0.059999999999999998], \"collections\": [], \"xscale\": \"linear\", \"bbox\": [0.125, 0.125, 0.77500000000000002, 0.77500000000000002]}], \"height\": 320.0, \"width\": 480.0, \"plugins\": [{\"type\": \"reset\"}, {\"enabled\": false, \"button\": true, \"type\": \"zoom\"}, {\"enabled\": false, \"button\": true, \"type\": \"boxzoom\"}], \"data\": {\"data01\": [[0.0, 0.0], [1.0, 0.0], [2.0, 0.0], [3.0, 0.0], [4.0, 0.0], [5.0, 0.0], [6.0, 0.0], [7.0, 0.0], [8.0, 0.0], [9.0, 0.0], [10.0, 0.0], [11.0, 0.0], [12.0, 0.0], [13.0, 0.0], [14.0, 0.0], [15.0, 0.0], [16.0, 0.0], [17.0, 0.0], [18.0, 0.0], [19.0, 0.0], [20.0, 0.0], [21.0, 0.0], [22.0, 0.0], [23.0, 0.0], [24.0, 0.0], [25.0, 0.0], [26.0, 0.0], [27.0, 0.0], [28.0, 0.0], [29.0, 0.0], [30.0, 0.0], [31.0, 0.0], [32.0, 0.0], [33.0, 0.0], [34.0, 0.0], [35.0, 0.0], [36.0, 0.0], [37.0, 0.0], [38.0, 0.0], [39.0, 0.0]]}, \"id\": \"el5463140214455374032\"});\n",
       "            })\n",
       "         });\n",
       "}\n",
       "</script>"
      ],
      "text/plain": [
       "<matplotlib.figure.Figure at 0x7f8638ce10d0>"
      ]
     },
     "metadata": {},
     "output_type": "display_data"
    }
   ],
   "source": [
    "playGame(200,40)"
   ]
  },
  {
   "cell_type": "code",
   "execution_count": 69,
   "metadata": {
    "collapsed": false
   },
   "outputs": [
    {
     "data": {
      "text/plain": [
       "[97, 53, 21, 6, 5, 4, 4, 3, 2, 1]"
      ]
     },
     "execution_count": 69,
     "metadata": {},
     "output_type": "execute_result"
    }
   ],
   "source": [
    "mylist = [1,2,4,53,21,97,6,5,4,3]\n",
    "def square(player): return player\n",
    "mylist = sorted(mylist, key=lambda player: square(player), reverse= True)\n",
    "mylist"
   ]
  },
  {
   "cell_type": "code",
   "execution_count": 85,
   "metadata": {
    "collapsed": true
   },
   "outputs": [],
   "source": [
    "def fitness(player): \n",
    "    return player.getCurrentScore() * 0.7 + player.getLastScore() * 0.3"
   ]
  },
  {
   "cell_type": "code",
   "execution_count": 60,
   "metadata": {
    "collapsed": false
   },
   "outputs": [
    {
     "data": {
      "image/png": "[encoded data removed]",
      "text/html": [
       "\n",
       "\n",
       "<style>\n",
       "\n",
       "</style>\n",
       "\n",
       "<div id=\"fig_el54631402144599486243163220882\"></div>\n",
       "<script>\n",
       "function mpld3_load_lib(url, callback){\n",
       "  var s = document.createElement('script');\n",
       "  s.src = url;\n",
       "  s.async = true;\n",
       "  s.onreadystatechange = s.onload = callback;\n",
       "  s.onerror = function(){console.warn(\"failed to load library \" + url);};\n",
       "  document.getElementsByTagName(\"head\")[0].appendChild(s);\n",
       "}\n",
       "\n",
       "if(typeof(mpld3) !== \"undefined\" && mpld3._mpld3IsLoaded){\n",
       "   // already loaded: just create the figure\n",
       "   !function(mpld3){\n",
       "       \n",
       "       mpld3.draw_figure(\"fig_el54631402144599486243163220882\", {\"axes\": [{\"xlim\": [0.0, 3.0], \"yscale\": \"linear\", \"axesbg\": \"#FFFFFF\", \"texts\": [{\"v_baseline\": \"auto\", \"h_anchor\": \"middle\", \"color\": \"#000000\", \"text\": \"some numbers\", \"coordinates\": \"axes\", \"zorder\": 3, \"alpha\": 1, \"fontsize\": 10.0, \"position\": [-0.07493279569892472, 0.5], \"rotation\": -90.0, \"id\": \"el5463140214459667856\"}], \"zoomable\": true, \"images\": [], \"xdomain\": [0.0, 3.0], \"ylim\": [1.0, 4.0], \"paths\": [], \"sharey\": [], \"sharex\": [], \"axesbgalpha\": null, \"axes\": [{\"scale\": \"linear\", \"tickformat\": null, \"grid\": {\"gridOn\": false}, \"fontsize\": 10.0, \"position\": \"bottom\", \"nticks\": 7, \"tickvalues\": null}, {\"scale\": \"linear\", \"tickformat\": null, \"grid\": {\"gridOn\": false}, \"fontsize\": 10.0, \"position\": \"left\", \"nticks\": 7, \"tickvalues\": null}], \"lines\": [{\"color\": \"#0000FF\", \"yindex\": 1, \"coordinates\": \"data\", \"dasharray\": \"10,0\", \"zorder\": 2, \"alpha\": 1, \"xindex\": 0, \"linewidth\": 1.0, \"data\": \"data01\", \"id\": \"el5463140214459503760\"}], \"markers\": [], \"id\": \"el5463140214460055824\", \"ydomain\": [1.0, 4.0], \"collections\": [], \"xscale\": \"linear\", \"bbox\": [0.125, 0.125, 0.77500000000000002, 0.77500000000000002]}], \"height\": 320.0, \"width\": 480.0, \"plugins\": [{\"type\": \"reset\"}, {\"enabled\": false, \"button\": true, \"type\": \"zoom\"}, {\"enabled\": false, \"button\": true, \"type\": \"boxzoom\"}], \"data\": {\"data01\": [[0.0, 1.0], [1.0, 2.0], [2.0, 3.0], [3.0, 4.0]]}, \"id\": \"el5463140214459948624\"});\n",
       "   }(mpld3);\n",
       "}else if(typeof define === \"function\" && define.amd){\n",
       "   // require.js is available: use it to load d3/mpld3\n",
       "   require.config({paths: {d3: \"https://mpld3.github.io/js/d3.v3.min\"}});\n",
       "   require([\"d3\"], function(d3){\n",
       "      window.d3 = d3;\n",
       "      mpld3_load_lib(\"https://mpld3.github.io/js/mpld3.v0.2.js\", function(){\n",
       "         \n",
       "         mpld3.draw_figure(\"fig_el54631402144599486243163220882\", {\"axes\": [{\"xlim\": [0.0, 3.0], \"yscale\": \"linear\", \"axesbg\": \"#FFFFFF\", \"texts\": [{\"v_baseline\": \"auto\", \"h_anchor\": \"middle\", \"color\": \"#000000\", \"text\": \"some numbers\", \"coordinates\": \"axes\", \"zorder\": 3, \"alpha\": 1, \"fontsize\": 10.0, \"position\": [-0.07493279569892472, 0.5], \"rotation\": -90.0, \"id\": \"el5463140214459667856\"}], \"zoomable\": true, \"images\": [], \"xdomain\": [0.0, 3.0], \"ylim\": [1.0, 4.0], \"paths\": [], \"sharey\": [], \"sharex\": [], \"axesbgalpha\": null, \"axes\": [{\"scale\": \"linear\", \"tickformat\": null, \"grid\": {\"gridOn\": false}, \"fontsize\": 10.0, \"position\": \"bottom\", \"nticks\": 7, \"tickvalues\": null}, {\"scale\": \"linear\", \"tickformat\": null, \"grid\": {\"gridOn\": false}, \"fontsize\": 10.0, \"position\": \"left\", \"nticks\": 7, \"tickvalues\": null}], \"lines\": [{\"color\": \"#0000FF\", \"yindex\": 1, \"coordinates\": \"data\", \"dasharray\": \"10,0\", \"zorder\": 2, \"alpha\": 1, \"xindex\": 0, \"linewidth\": 1.0, \"data\": \"data01\", \"id\": \"el5463140214459503760\"}], \"markers\": [], \"id\": \"el5463140214460055824\", \"ydomain\": [1.0, 4.0], \"collections\": [], \"xscale\": \"linear\", \"bbox\": [0.125, 0.125, 0.77500000000000002, 0.77500000000000002]}], \"height\": 320.0, \"width\": 480.0, \"plugins\": [{\"type\": \"reset\"}, {\"enabled\": false, \"button\": true, \"type\": \"zoom\"}, {\"enabled\": false, \"button\": true, \"type\": \"boxzoom\"}], \"data\": {\"data01\": [[0.0, 1.0], [1.0, 2.0], [2.0, 3.0], [3.0, 4.0]]}, \"id\": \"el5463140214459948624\"});\n",
       "      });\n",
       "    });\n",
       "}else{\n",
       "    // require.js not available: dynamically load d3 & mpld3\n",
       "    mpld3_load_lib(\"https://mpld3.github.io/js/d3.v3.min.js\", function(){\n",
       "         mpld3_load_lib(\"https://mpld3.github.io/js/mpld3.v0.2.js\", function(){\n",
       "                 \n",
       "                 mpld3.draw_figure(\"fig_el54631402144599486243163220882\", {\"axes\": [{\"xlim\": [0.0, 3.0], \"yscale\": \"linear\", \"axesbg\": \"#FFFFFF\", \"texts\": [{\"v_baseline\": \"auto\", \"h_anchor\": \"middle\", \"color\": \"#000000\", \"text\": \"some numbers\", \"coordinates\": \"axes\", \"zorder\": 3, \"alpha\": 1, \"fontsize\": 10.0, \"position\": [-0.07493279569892472, 0.5], \"rotation\": -90.0, \"id\": \"el5463140214459667856\"}], \"zoomable\": true, \"images\": [], \"xdomain\": [0.0, 3.0], \"ylim\": [1.0, 4.0], \"paths\": [], \"sharey\": [], \"sharex\": [], \"axesbgalpha\": null, \"axes\": [{\"scale\": \"linear\", \"tickformat\": null, \"grid\": {\"gridOn\": false}, \"fontsize\": 10.0, \"position\": \"bottom\", \"nticks\": 7, \"tickvalues\": null}, {\"scale\": \"linear\", \"tickformat\": null, \"grid\": {\"gridOn\": false}, \"fontsize\": 10.0, \"position\": \"left\", \"nticks\": 7, \"tickvalues\": null}], \"lines\": [{\"color\": \"#0000FF\", \"yindex\": 1, \"coordinates\": \"data\", \"dasharray\": \"10,0\", \"zorder\": 2, \"alpha\": 1, \"xindex\": 0, \"linewidth\": 1.0, \"data\": \"data01\", \"id\": \"el5463140214459503760\"}], \"markers\": [], \"id\": \"el5463140214460055824\", \"ydomain\": [1.0, 4.0], \"collections\": [], \"xscale\": \"linear\", \"bbox\": [0.125, 0.125, 0.77500000000000002, 0.77500000000000002]}], \"height\": 320.0, \"width\": 480.0, \"plugins\": [{\"type\": \"reset\"}, {\"enabled\": false, \"button\": true, \"type\": \"zoom\"}, {\"enabled\": false, \"button\": true, \"type\": \"boxzoom\"}], \"data\": {\"data01\": [[0.0, 1.0], [1.0, 2.0], [2.0, 3.0], [3.0, 4.0]]}, \"id\": \"el5463140214459948624\"});\n",
       "            })\n",
       "         });\n",
       "}\n",
       "</script>"
      ],
      "text/plain": [
       "<matplotlib.figure.Figure at 0x7f863913de50>"
      ]
     },
     "metadata": {},
     "output_type": "display_data"
    }
   ],
   "source": [
    "import matplotlib.pyplot as plt\n",
    "%matplotlib inline \n",
    "import mpld3\n",
    "mpld3.enable_notebook()\n",
    "plt.plot([1,2,3,4])\n",
    "plt.ylabel('some numbers')\n",
    "plt.show()"
   ]
  },
  {
   "cell_type": "code",
   "execution_count": 78,
   "metadata": {
    "collapsed": false
   },
   "outputs": [
    {
     "data": {
      "text/plain": [
       "3"
      ]
     },
     "execution_count": 78,
     "metadata": {},
     "output_type": "execute_result"
    }
   ],
   "source": [
    "a = [1,2,3,4]\n",
    "a[-2]"
   ]
  },
  {
   "cell_type": "code",
   "execution_count": null,
   "metadata": {
    "collapsed": true
   },
   "outputs": [],
   "source": []
  }
 ],
 "metadata": {
  "celltoolbar": "Slideshow",
  "kernelspec": {
   "display_name": "Python 2",
   "language": "python",
   "name": "python2"
  },
  "language_info": {
   "codemirror_mode": {
    "name": "ipython",
    "version": 2
   },
   "file_extension": ".py",
   "mimetype": "text/x-python",
   "name": "python",
   "nbconvert_exporter": "python",
   "pygments_lexer": "ipython2",
   "version": "2.7.11"
  }
 },
 "nbformat": 4,
 "nbformat_minor": 0
}
