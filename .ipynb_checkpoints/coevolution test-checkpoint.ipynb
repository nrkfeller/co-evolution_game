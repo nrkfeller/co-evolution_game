{
 "cells": [
  {
   "cell_type": "code",
   "execution_count": 1,
   "metadata": {
    "collapsed": true
   },
   "outputs": [],
   "source": [
    "import random\n",
    "import names"
   ]
  },
  {
   "cell_type": "code",
   "execution_count": 8,
   "metadata": {
    "collapsed": true
   },
   "outputs": [],
   "source": [
    "class Predictor(object):\n",
    "    \"\"\"\n",
    "    The predictor attemps to guess what the generator will produce.\n",
    "    He gains a point if he predicts accurately and looses one if he doesn't\n",
    "    \"\"\"\n",
    "    def __init__(self, name = names.get_full_name()):\n",
    "        self.name = name\n",
    "        self.rules = []\n",
    "        self.gameScore = 0\n",
    "        self.lastScore = 0\n",
    "        # make players start with some rules\n",
    "    \n",
    "    def getNewRule(self, allPreRules):\n",
    "        self.rules.append(random.choice(random.choice(allPreRules)) + '-' + str(random.randint(0,1)))\n",
    "        self.rules.sort(lambda x,y: cmp(len(y), len(x)))\n",
    "        #print self.rules\n",
    "        \n",
    "    def predict(self, generator):\n",
    "        #generator.sequence\n",
    "        \n",
    "        def areEquivalent(rs, gc):\n",
    "            rs = list(rs)\n",
    "            gc = list(gc)\n",
    "            for i in xrange(0,len(gc)):\n",
    "                if rs[i] == 'X':\n",
    "                    rs[i] = gc[i]\n",
    "            if rs == gc:\n",
    "                #print str(True),rs,gc\n",
    "                return True\n",
    "            #print str(False),rs,gc\n",
    "            return False\n",
    "                    \n",
    "        print generator.sequence\n",
    "        for rule in self.rules:\n",
    "            ruleSeq = rule.split('-')\n",
    "            genChunk = generator.sequence[-len(ruleSeq[0]):]\n",
    "            if areEquivalent(ruleSeq[0], genChunk):\n",
    "                print \"rule predicting\", ruleSeq[0], genChunk, ruleSeq[1]\n",
    "                return ruleSeq[1]\n",
    "        print \"random predicted\"\n",
    "        return str(random.randint(0,1))\n",
    "    \n",
    "    def predictorWins(self):\n",
    "        self.gameScore += 1\n",
    "        \n",
    "    def newGame(self):\n",
    "        self.lastScore = self.gameScore\n",
    "        self.gameScore = 0\n",
    "                \n",
    "            \n",
    "            \n",
    "    \"\"\"\n",
    "            for index in xrange(0,ruleSeq[0]):\n",
    "                if ruleSeq[0][index] != genChunk [index] or ruleSeq[0][index] != 'X':\n",
    "                    break\n",
    "            \n",
    "                    \n",
    "            if ruleSeq[0] == generator.sequence[-len(ruleSeq):]:\n",
    "                self.sequence += rule[1]\n",
    "                return\n",
    "        self.sequence += str(random.randint(0,1))\"\"\"\n",
    "    \n",
    "    \n",
    "def createAllPreRules(length):\n",
    "    def createAllBin(thelist, length):\n",
    "        if length == 0:\n",
    "            allpossibilities.append(thelist)\n",
    "        else:\n",
    "            if random.random() < 0.9:\n",
    "                createAllBin(thelist+'1', length-1)\n",
    "            else:\n",
    "                createAllBin(thelist+'X', length-1)\n",
    "            if random.random() < 0.9:\n",
    "                createAllBin(thelist+'0', length-1)\n",
    "            else:\n",
    "                createAllBin(thelist+'X', length-1)\n",
    "\n",
    "    allpossibilities = []\n",
    "\n",
    "    for i in range(1,length):\n",
    "        createAllBin('', i)\n",
    "\n",
    "    formatedpossibilities = []\n",
    "    for i in range(0,length-1):\n",
    "        formatedpossibilities.append([])\n",
    "    for i in allpossibilities:\n",
    "        formatedpossibilities[len(i)-1].append(i)\n",
    "\n",
    "    return formatedpossibilities\n",
    "\n",
    "possiblePreRules = createAllPreRules(10)"
   ]
  },
  {
   "cell_type": "code",
   "execution_count": 395,
   "metadata": {
    "collapsed": false
   },
   "outputs": [],
   "source": [
    "myPre = Predictor(\"bob\")\n",
    "myPre.getNewRule(possiblePreRules)\n",
    "myPre.getNewRule(possiblePreRules)\n",
    "myPre.getNewRule(possiblePreRules)\n",
    "myPre.getNewRule(possiblePreRules)\n",
    "myPre.getNewRule(possiblePreRules)\n",
    "myPre.getNewRule(possiblePreRules)\n",
    "myPre.getNewRule(possiblePreRules)\n",
    "myPre.getNewRule(possiblePreRules)\n",
    "myPre.getNewRule(possiblePreRules)\n",
    "myPre.getNewRule(possiblePreRules)\n",
    "myPre.getNewRule(possiblePreRules)\n",
    "myPre.getNewRule(possiblePreRules)"
   ]
  },
  {
   "cell_type": "code",
   "execution_count": 396,
   "metadata": {
    "collapsed": false
   },
   "outputs": [
    {
     "data": {
      "text/plain": [
       "['010100000-1',\n",
       " '1X1110011-1',\n",
       " 'X1111100-1',\n",
       " '011X111-1',\n",
       " '1X1100-1',\n",
       " '1X1000-1',\n",
       " '1X0000-0',\n",
       " '0101X-0',\n",
       " '00101-1',\n",
       " '1X10-0',\n",
       " '000X-1',\n",
       " '1-1']"
      ]
     },
     "execution_count": 396,
     "metadata": {},
     "output_type": "execute_result"
    }
   ],
   "source": [
    "myPre.rules"
   ]
  },
  {
   "cell_type": "code",
   "execution_count": 9,
   "metadata": {
    "collapsed": false
   },
   "outputs": [],
   "source": [
    "import random\n",
    "\n",
    "class Generator(object):\n",
    "    \"\"\"\n",
    "    The generator generates a string of 1's and 0's.\n",
    "    If the predictor has accurately predicted his next element he looses a point, and if not he gains one\n",
    "    \"\"\"\n",
    "    possibleRules = []\n",
    "    \n",
    "    def __init__(self, name = names.get_full_name()):\n",
    "        self.name = name\n",
    "        self.rules = []\n",
    "        self.sequence = ''\n",
    "        self.gameScore = 0\n",
    "        self.lastScore = 0\n",
    "        \n",
    "    def generate(self):\n",
    "        \n",
    "        for rule in self.rules:\n",
    "            ruleSeq = rule.split('-')\n",
    "            if ruleSeq[0] == self.sequence[-len(ruleSeq):]:\n",
    "                print \"rule generated\",rule\n",
    "                self.sequence += rule[1]\n",
    "                return rule[1]\n",
    "        nextItem = str(random.randint(0,1))\n",
    "        self.sequence += nextItem\n",
    "        print \"random generated\", nextItem\n",
    "        return nextItem\n",
    "        \n",
    "    def getNewRule(self, allGenRules):\n",
    "        self.rules.append(random.choice(random.choice(allGenRules)) + '-' + str(random.randint(0,1)))\n",
    "        self.rules.sort(lambda x,y: cmp(len(y), len(x)))\n",
    "        #print self.rules\n",
    "        \n",
    "    def generatorWins(self):\n",
    "        self.gameScore += 1\n",
    "        \n",
    "    def newGame(self):\n",
    "        self.lastScore = self.gameScore\n",
    "        self.gameScore = 0\n",
    "        \n",
    "            \n",
    "def createAllGenRules(length):\n",
    "    def createAllBin(thelist, length):\n",
    "        if length == 0:\n",
    "            allpossibilities.append(thelist)\n",
    "        else:\n",
    "            createAllBin(thelist+'1', length-1)\n",
    "            createAllBin(thelist+'0', length-1)\n",
    "\n",
    "    allpossibilities = []\n",
    "\n",
    "    for i in range(1,length):\n",
    "        createAllBin('', i)\n",
    "\n",
    "    formatedpossibilities = []\n",
    "    for i in range(0,length-1):\n",
    "        formatedpossibilities.append([])\n",
    "    for i in allpossibilities:\n",
    "        formatedpossibilities[len(i)-1].append(i)\n",
    "\n",
    "    return formatedpossibilities\n",
    "\n",
    "possibleGenRules = createAllGenRules(10)\n",
    "    \n"
   ]
  },
  {
   "cell_type": "code",
   "execution_count": 390,
   "metadata": {
    "collapsed": false
   },
   "outputs": [
    {
     "data": {
      "text/plain": [
       "['100010101-1',\n",
       " '001010011-1',\n",
       " '110001000-0',\n",
       " '10101111-0',\n",
       " '1010011-1',\n",
       " '010011-0',\n",
       " '10001-1',\n",
       " '01011-0',\n",
       " '10011-0',\n",
       " '11010-1',\n",
       " '0001-0',\n",
       " '101-1',\n",
       " '011-0',\n",
       " '01-0',\n",
       " '0-1',\n",
       " '0-0']"
      ]
     },
     "execution_count": 390,
     "metadata": {},
     "output_type": "execute_result"
    }
   ],
   "source": [
    "myGen = Generator(\"nick\")\n",
    "myGen.getNewRule(possibleGenRules)\n",
    "myGen.getNewRule(possibleGenRules)\n",
    "myGen.getNewRule(possibleGenRules)\n",
    "myGen.getNewRule(possibleGenRules)\n",
    "myGen.getNewRule(possibleGenRules)\n",
    "myGen.getNewRule(possibleGenRules)\n",
    "myGen.getNewRule(possibleGenRules)\n",
    "myGen.getNewRule(possibleGenRules)\n",
    "myGen.getNewRule(possibleGenRules)\n",
    "myGen.getNewRule(possibleGenRules)\n",
    "myGen.getNewRule(possibleGenRules)\n",
    "myGen.getNewRule(possibleGenRules)\n",
    "myGen.getNewRule(possibleGenRules)\n",
    "myGen.getNewRule(possibleGenRules)\n",
    "myGen.getNewRule(possibleGenRules)\n",
    "myGen.getNewRule(possibleGenRules)\n",
    "myGen.rules"
   ]
  },
  {
   "cell_type": "code",
   "execution_count": 391,
   "metadata": {
    "collapsed": false
   },
   "outputs": [
    {
     "name": "stdout",
     "output_type": "stream",
     "text": [
      "\n",
      "random predicted\n",
      "random generated 0\n",
      "choices 0 0\n",
      "p wins\n",
      "0\n",
      "random predicted\n",
      "rule generated 0-1\n",
      "choices 1 -\n",
      "g wins\n",
      "0-\n",
      "random predicted\n",
      "random generated 1\n",
      "choices 0 1\n",
      "g wins\n",
      "0-1\n",
      "random predicted\n",
      "random generated 1\n",
      "choices 1 1\n",
      "p wins\n",
      "0-11\n",
      "random predicted\n",
      "random generated 1\n",
      "choices 1 1\n",
      "p wins\n",
      "0-111\n",
      "random predicted\n",
      "random generated 0\n",
      "choices 1 0\n",
      "g wins\n",
      "0-1110\n",
      "rule predicting 10 10 1\n",
      "random generated 0\n",
      "choices 1 0\n",
      "g wins\n",
      "0-11100\n",
      "rule predicting 100 100 1\n",
      "random generated 1\n",
      "choices 1 1\n",
      "p wins\n",
      "0-111001\n",
      "random predicted\n",
      "rule generated 01-0\n",
      "choices 1 1\n",
      "p wins\n",
      "0-1110011\n",
      "random predicted\n",
      "random generated 1\n",
      "choices 0 1\n",
      "g wins\n",
      "0-11100111\n"
     ]
    }
   ],
   "source": [
    "\n",
    "for i in xrange(10):\n",
    "    prediction = myPre.predict(myGen)\n",
    "    generated = myGen.generate()\n",
    "    print \"choices\", prediction, generated\n",
    "    if prediction == generated:\n",
    "        print \"p wins\"\n",
    "    else:\n",
    "        print \"g wins\"\n",
    "\n",
    "print myGen.sequence"
   ]
  },
  {
   "cell_type": "code",
   "execution_count": 407,
   "metadata": {
    "collapsed": false
   },
   "outputs": [],
   "source": [
    "def playGame(numberOfPlayers, numberOfRounds):\n",
    "    predictionTeam = []\n",
    "    generationTeam = []\n",
    "    for i in range(numberOfPlayers):\n",
    "        newPred = Predictor()\n",
    "        newGen = Generator()\n",
    "        predictionTeam.append()\n",
    "        generationTeam.append()\n",
    "    PreChamp = random.choice(predictionTeam)\n",
    "    GenChamp = random.randint(generationTeam)\n",
    "    \n",
    "    for move in xrange(0,100):\n",
    "        championPrediction = PreChamp.predict()\n",
    "        championGeneration = GenChamp.generate()\n",
    "        for predPlayer in predictionTeam:\n",
    "            playerPrediction = predPlayer.predict()\n",
    "            if playerPrediction == championGeneration:\n",
    "                predPlayer.predictorWins()\n",
    "        for genPlayer in generationTeam:\n",
    "            playerGeneration = genPlayer.generate()\n",
    "            if playerGeneration != championPrediction:\n",
    "                genPlayer.generatorWins()\n",
    "                \n",
    "        predictionTeam = sorted(predictionTeam, key=lambda player: fitness(player) , reverse = True)\n",
    "        generationTeam = sorted(generationTeam, key=lambda player: fitness(player) , reverse = True)\n",
    "        \n",
    "        PreChamp = predictionTeam[0]\n",
    "        GenChamp = generationTeam[0]\n",
    "        \n",
    "        for i in xrange(1, int(numberOfPlayers*50)):\n",
    "            predictionTeam[i].mutate()\n",
    "            generationTeam[i].mutate()\n",
    "        # keep top x% players\n",
    "        # mutate and Xover parents\n",
    "        # get new Population\n",
    "        # play again"
   ]
  },
  {
   "cell_type": "code",
   "execution_count": 408,
   "metadata": {
    "collapsed": false
   },
   "outputs": [],
   "source": [
    "playGame(10,10)"
   ]
  },
  {
   "cell_type": "code",
   "execution_count": 12,
   "metadata": {
    "collapsed": false
   },
   "outputs": [
    {
     "data": {
      "text/plain": [
       "[97, 53, 21, 6, 5, 4, 4, 3, 2, 1]"
      ]
     },
     "execution_count": 12,
     "metadata": {},
     "output_type": "execute_result"
    }
   ],
   "source": [
    "mylist = [1,2,4,53,21,97,6,5,4,3]\n",
    "def square(player): return player\n",
    "mylist = sorted(mylist, key=lambda player: square(player), reverse= True)\n",
    "mylist"
   ]
  },
  {
   "cell_type": "code",
   "execution_count": 13,
   "metadata": {
    "collapsed": true
   },
   "outputs": [],
   "source": [
    "def fitness(player): return player.gameScore*0.7 * player.lastScore*0.3"
   ]
  },
  {
   "cell_type": "code",
   "execution_count": null,
   "metadata": {
    "collapsed": true
   },
   "outputs": [],
   "source": []
  }
 ],
 "metadata": {
  "celltoolbar": "Slideshow",
  "kernelspec": {
   "display_name": "Python 2",
   "language": "python",
   "name": "python2"
  },
  "language_info": {
   "codemirror_mode": {
    "name": "ipython",
    "version": 2
   },
   "file_extension": ".py",
   "mimetype": "text/x-python",
   "name": "python",
   "nbconvert_exporter": "python",
   "pygments_lexer": "ipython2",
   "version": "2.7.11"
  }
 },
 "nbformat": 4,
 "nbformat_minor": 0
}
