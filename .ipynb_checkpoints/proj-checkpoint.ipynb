{
 "cells": [
  {
   "cell_type": "code",
   "execution_count": 53,
   "metadata": {
    "collapsed": true
   },
   "outputs": [],
   "source": [
    "import random\n",
    "import names\n",
    "import matplotlib.pyplot as plt\n",
    "%matplotlib inline \n",
    "#import mpld3\n",
    "#mpld3.enable_notebook()"
   ]
  },
  {
   "cell_type": "code",
   "execution_count": 54,
   "metadata": {
    "collapsed": false
   },
   "outputs": [],
   "source": [
    "class Predictor(object):\n",
    "    \"\"\"\n",
    "    The predictor attemps to guess what the generator will produce.\n",
    "    He gains a point if he predicts accurately and looses one if he doesn't\n",
    "    \"\"\"\n",
    "    def __init__(self):\n",
    "        self.name = names.get_full_name()\n",
    "        self.rules = []\n",
    "        self.gameScore = 0\n",
    "        self.lastScore = 0\n",
    "        self.scores = []\n",
    "        self.sequence = ''\n",
    "        # make players start with some rules\n",
    "    \n",
    "    def getRules(self, ruleset):\n",
    "        for i in xrange(0, random.randint(0,20)):\n",
    "            key = random.choice(ruleset.keys())\n",
    "            newrule = random.choice(ruleset[key])\n",
    "            self.rules.append(newrule)\n",
    "        self.rules.sort(lambda x,y: cmp(len(y[0]), len(x[0])))\n",
    "        \n",
    "    def predict(self, generator):\n",
    "        \n",
    "        def arequivalent(s, r):\n",
    "            for i in xrange(0, len(s)):\n",
    "                if s[i] != r[i] and r[i] != 'X':\n",
    "                    return False\n",
    "            return True\n",
    "        \n",
    "        \n",
    "        gsequence = generator.sequence\n",
    "        slength = len(gsequence)\n",
    "        \n",
    "        for rule in self.rules:\n",
    "            rlength = len(rule[0])\n",
    "            if slength >= rlength:\n",
    "                seqchunk = gsequence[-rlength:]\n",
    "                if arequivalent(seqchunk, rule[0]):\n",
    "                    predicted = rule[1]\n",
    "                    #print seqchunk, rule[0]\n",
    "                    self.sequence += predicted\n",
    "                    return predicted\n",
    "        randpred = str(random.randint(0,1))\n",
    "        self.sequence += randpred\n",
    "        #print \"randomlypredicted\"\n",
    "        return randpred\n",
    "    \n",
    "    \n",
    "    \n",
    "    def predictorWins(self):\n",
    "        self.gameScore += 1\n",
    "        \n",
    "    def newGame(self):\n",
    "        self.sequence = ''\n",
    "        self.scores.append(self.gameScore)\n",
    "        self.lastScore = self.gameScore\n",
    "        self.gameScore = 0\n",
    "        \n",
    "    def mutate(self, ruleset):\n",
    "        key = random.choice(ruleset.keys())\n",
    "        newrule = random.choice(ruleset[key])\n",
    "        self.rules.append(newrule)\n",
    "        \n",
    "        del self.rules[random.randint(0,len(self.rules) - 1)]\n",
    "        \n",
    "        self.rules.sort(lambda x,y: cmp(len(y[0]), len(x[0])))\n",
    "        \n",
    "        \n",
    "    def crossover(self, secondParent):\n",
    "        newgen = Predictor()\n",
    "        newruleset = self.rules + secondParent.rules\n",
    "        newruleset = newruleset[1::2]\n",
    "        newgen.rules = newruleset\n",
    "        return newgen\n",
    "        \n",
    "                \n",
    "        \n",
    "    \n",
    "    \n",
    "def createAllPreRules(length):\n",
    "    \n",
    "    L = ['']\n",
    "    for n in range(length):\n",
    "        tmp = []\n",
    "        for el in L:\n",
    "            if random.random() < 0.9:\n",
    "                tmp.append(el+'0')\n",
    "            else:\n",
    "                tmp.append(el+'0')\n",
    "\n",
    "            if random.random() < 0.9:\n",
    "                tmp.append(el+'1')\n",
    "            else:\n",
    "                tmp.append(el+'1')\n",
    "            tmp.append('')\n",
    "        L = tmp\n",
    "    L = sorted(set(L))\n",
    "    \n",
    "    formRules = {}\n",
    "    \n",
    "    for i in xrange(length+1):\n",
    "        formRules[str(i)] = []\n",
    "        \n",
    "    for i in L:\n",
    "        formRules[str(len(i))].append((i, '1'))\n",
    "        formRules[str(len(i))].append((i, '0'))\n",
    "    \n",
    "    formRules.pop('0', None)\n",
    "    return formRules\n",
    "\n",
    "possiblePreRules = createAllPreRules(10)"
   ]
  },
  {
   "cell_type": "code",
   "execution_count": null,
   "metadata": {
    "collapsed": false
   },
   "outputs": [],
   "source": []
  },
  {
   "cell_type": "code",
   "execution_count": 55,
   "metadata": {
    "collapsed": false
   },
   "outputs": [],
   "source": [
    "class Generator(object):\n",
    "    \"\"\"\n",
    "    The generator generates a string of 1's and 0's.\n",
    "    If the predictor has accurately predicted his next element he looses a point, and if not he gains one\n",
    "    \"\"\"\n",
    "    possibleRules = []\n",
    "    \n",
    "    def __init__(self):\n",
    "        self.name = names.get_full_name()\n",
    "        self.rules = []\n",
    "        self.sequence = ''\n",
    "        self.gameScore = 0\n",
    "        self.lastScore = 0\n",
    "        self.scores = []\n",
    "        \n",
    "    def generate(self):\n",
    "        slength = len(self.sequence)\n",
    "        for rule in self.rules:\n",
    "            rlength = len(rule[0])\n",
    "            if slength >= rlength:\n",
    "                seqchunk = self.sequence[-rlength:]\n",
    "                if seqchunk == rule[0]:\n",
    "                    generated = rule[1]\n",
    "                    self.sequence += generated\n",
    "                    return generated\n",
    "        randgen = str(random.randint(0,1))\n",
    "        self.sequence += randgen\n",
    "        #print \"randomlygenerate\"\n",
    "        return randgen\n",
    "        \n",
    "    def getRules(self, ruleset):\n",
    "        for i in xrange(0, random.randint(0,20)):\n",
    "            key = random.choice(ruleset.keys())\n",
    "            newrule = random.choice(ruleset[key])\n",
    "            self.rules.append(newrule)\n",
    "        self.rules.sort(lambda x,y: cmp(len(y[0]), len(x[0])))\n",
    "        #print self.rules\n",
    "        \n",
    "    def generatorWins(self):\n",
    "        self.gameScore += 1\n",
    "        \n",
    "    def newGame(self):\n",
    "        self.scores.append(self.gameScore)\n",
    "        self.lastScore = self.gameScore\n",
    "        self.gameScore = 0\n",
    "        self.sequence = ''\n",
    "        \n",
    "    def mutate(self, ruleset):\n",
    "        key = random.choice(ruleset.keys())\n",
    "        newrule = random.choice(ruleset[key])\n",
    "        self.rules.append(newrule)\n",
    "        \n",
    "        del self.rules[random.randint(0,len(self.rules) -1)]\n",
    "        \n",
    "        self.rules.sort(lambda x,y: cmp(len(y[0]), len(x[0])))\n",
    "        \n",
    "    def crossover(self, secondParent):\n",
    "        newgen = Generator()\n",
    "        newruleset = self.rules + secondParent.rules\n",
    "        newruleset = newruleset[1::2]\n",
    "        newgen.rules = newruleset\n",
    "        return newgen\n",
    "        \n",
    "            \n",
    "def createAllGenRules(length):\n",
    "    \n",
    "    L = [\"\"]\n",
    "    for n in range(length):\n",
    "        tmp = []\n",
    "        for el in L:\n",
    "            tmp.append(el+'0')\n",
    "            tmp.append(el+'1')\n",
    "            tmp.append('')\n",
    "        L = tmp\n",
    "        \n",
    "    L = sorted(set(L))\n",
    "    \n",
    "    formRules = {}\n",
    "    \n",
    "    for i in xrange(length+1):\n",
    "        formRules[str(i)] = []\n",
    "        \n",
    "    for i in L:\n",
    "        formRules[str(len(i))].append((i, '1'))\n",
    "        formRules[str(len(i))].append((i, '0'))\n",
    "    formRules.pop('0', None)\n",
    "    return formRules\n",
    "\n",
    "possibleGenRules = createAllGenRules(10)"
   ]
  },
  {
   "cell_type": "code",
   "execution_count": 56,
   "metadata": {
    "collapsed": false
   },
   "outputs": [
    {
     "data": {
      "text/plain": [
       "'gen = Generator()\\ngen.getRules(possibleGenRules)\\n\\nfor i in range(100):\\n    print gen.generate()\\ngen.sequence'"
      ]
     },
     "execution_count": 56,
     "metadata": {},
     "output_type": "execute_result"
    }
   ],
   "source": [
    "\"\"\"gen = Generator()\n",
    "gen.getRules(possibleGenRules)\n",
    "\n",
    "for i in range(100):\n",
    "    print gen.generate()\n",
    "gen.sequence\"\"\""
   ]
  },
  {
   "cell_type": "code",
   "execution_count": 57,
   "metadata": {
    "collapsed": false
   },
   "outputs": [
    {
     "data": {
      "text/plain": [
       "'gen = Generator()\\ngen.getRules(possibleGenRules)\\nprint gen.rules\\ngen.mutate(possibleGenRules)\\nprint gen.rules'"
      ]
     },
     "execution_count": 57,
     "metadata": {},
     "output_type": "execute_result"
    }
   ],
   "source": [
    "\"\"\"gen = Generator()\n",
    "gen.getRules(possibleGenRules)\n",
    "print gen.rules\n",
    "gen.mutate(possibleGenRules)\n",
    "print gen.rules\"\"\""
   ]
  },
  {
   "cell_type": "code",
   "execution_count": 58,
   "metadata": {
    "collapsed": false
   },
   "outputs": [],
   "source": [
    "def playGame(numberOfPlayers, numOfGenerations):\n",
    "    predictionTeam = []\n",
    "    generationTeam = []\n",
    "    \n",
    "    genchampfitness = []\n",
    "    prechampfitness = []\n",
    "    \n",
    "    genAvgfitness = []\n",
    "    preAvgfitness = []\n",
    "    \n",
    "    for i in xrange(numberOfPlayers):\n",
    "        newPred = Predictor()\n",
    "        newPred.getRules(possiblePreRules)\n",
    "        newGen = Generator()\n",
    "        newGen.getRules(possibleGenRules)\n",
    "        predictionTeam.append(newPred)\n",
    "        generationTeam.append(newGen)\n",
    "    PreChamp = random.choice(predictionTeam)\n",
    "    GenChamp = random.choice(generationTeam)\n",
    "    \n",
    "    for generation in xrange(0, numOfGenerations):\n",
    "        \n",
    "        \n",
    "        for move in xrange(0,100):\n",
    "            \n",
    "            championGeneration = GenChamp.generate()            \n",
    "            championPrediction = PreChamp.predict(GenChamp)\n",
    "            \n",
    "            for predPlayer in predictionTeam:\n",
    "                playerPrediction = predPlayer.predict(GenChamp)\n",
    "                if playerPrediction == championGeneration:\n",
    "                    predPlayer.predictorWins()\n",
    "                    \n",
    "            for genPlayer in generationTeam:\n",
    "                playerGeneration = genPlayer.generate()\n",
    "                if playerGeneration != championPrediction:\n",
    "                    genPlayer.generatorWins()\n",
    "                    \n",
    "                        \n",
    "\n",
    "        predictionTeam = sorted(predictionTeam, key=lambda player: fitness(player) , reverse = True)\n",
    "        generationTeam = sorted(generationTeam, key=lambda player: fitness(player) , reverse = True)\n",
    "        \n",
    "        \n",
    "        \n",
    "        PreChamp = predictionTeam[0]\n",
    "        GenChamp = generationTeam[0]\n",
    "\n",
    "        for i in xrange(0, len(predictionTeam)/2):\n",
    "            predictionTeam[i].mutate(possiblePreRules)\n",
    "            generationTeam[i].mutate(possibleGenRules)\n",
    "\n",
    "            \n",
    "        \n",
    "        for i in xrange(int(numberOfPlayers/2), numberOfPlayers):\n",
    "            predictionTeam[i] = random.choice(predictionTeam).crossover(random.choice(predictionTeam))\n",
    "            generationTeam[i] = random.choice(generationTeam).crossover(random.choice(generationTeam))\n",
    "\n",
    "        #print \"Predictor champion fitness : \" + str(fitness(PreChamp))\n",
    "        #print \"Generator champion fitness : \" + str(fitness(GenChamp))\n",
    "        genchampfitness.append(fitness(GenChamp))\n",
    "        prechampfitness.append(fitness(PreChamp))\n",
    "        \n",
    "        genAvgfitness.append(sum(fitness(player) for player in generationTeam)/len(generationTeam))\n",
    "        preAvgfitness.append(sum(fitness(player) for player in predictionTeam)/len(predictionTeam))\n",
    "        \n",
    "        #for i in predictionTeam:\n",
    "        #    print \"GS : \" + str(i.gameScore) + \"    \" + \"LS : \" + str(i.lastScore)\n",
    "        #for i in generationTeam:\n",
    "        #    print \"GS : \" + str(i.gameScore) + \"    \" + \"LS : \" + str(i.lastScore)\n",
    "        \n",
    "        \n",
    "        #print len(PreChamp.sequence), len(GenChamp.sequence)\n",
    "        \n",
    "        \n",
    "        PreChamp.newGame()\n",
    "        GenChamp.newGame()\n",
    "        for i in generationTeam:\n",
    "            i.newGame()\n",
    "        for i in predictionTeam:\n",
    "            i.newGame()\n",
    "            \n",
    "        \n",
    "        \n",
    "        \n",
    "    plt.plot(genchampfitness, label='Generator Champ Fitness')\n",
    "    plt.plot(prechampfitness, label='Predictor Champ Fitness')\n",
    "    plt.plot(genAvgfitness, label='Generator Average Fitness')\n",
    "    plt.plot(preAvgfitness, label='Predictor Average Fitness')    \n",
    "    plt.ylabel('Fitness')    \n",
    "    plt.xlabel('Generation')\n",
    "    plt.legend(bbox_to_anchor=(1.05, 1), loc=2, borderaxespad=0.)\n",
    "    plt.show()\n",
    "        # keep top x% players\n",
    "        # mutate and Xover parents\n",
    "        # get new Population\n",
    "        # play again"
   ]
  },
  {
   "cell_type": "code",
   "execution_count": 59,
   "metadata": {
    "collapsed": true
   },
   "outputs": [],
   "source": [
    "def fitness(player): \n",
    "    alpha = 0.7\n",
    "    return player.gameScore*alpha + player.lastScore*(1-alpha)"
   ]
  },
  {
   "cell_type": "code",
   "execution_count": null,
   "metadata": {
    "collapsed": false
   },
   "outputs": [
    {
     "data": {
      "image/png": "[encoded data removed]",
      "text/plain": [
       "<matplotlib.figure.Figure at 0x7f5ed739ff50>"
      ]
     },
     "metadata": {},
     "output_type": "display_data"
    }
   ],
   "source": [
    "playGame(100,10)"
   ]
  },
  {
   "cell_type": "code",
   "execution_count": null,
   "metadata": {
    "collapsed": false
   },
   "outputs": [],
   "source": [
    "playGame(100,10)"
   ]
  },
  {
   "cell_type": "code",
   "execution_count": null,
   "metadata": {
    "collapsed": false
   },
   "outputs": [],
   "source": [
    "playGame(100,10)"
   ]
  },
  {
   "cell_type": "code",
   "execution_count": null,
   "metadata": {
    "collapsed": false
   },
   "outputs": [],
   "source": [
    "playGame(100,10)"
   ]
  },
  {
   "cell_type": "code",
   "execution_count": null,
   "metadata": {
    "collapsed": false
   },
   "outputs": [],
   "source": [
    "playGame(100,10)"
   ]
  },
  {
   "cell_type": "code",
   "execution_count": null,
   "metadata": {
    "collapsed": false
   },
   "outputs": [],
   "source": [
    "playGame(100,10)"
   ]
  },
  {
   "cell_type": "code",
   "execution_count": null,
   "metadata": {
    "collapsed": false
   },
   "outputs": [],
   "source": []
  },
  {
   "cell_type": "code",
   "execution_count": null,
   "metadata": {
    "collapsed": true
   },
   "outputs": [],
   "source": []
  }
 ],
 "metadata": {
  "kernelspec": {
   "display_name": "Python 2",
   "language": "python",
   "name": "python2"
  },
  "language_info": {
   "codemirror_mode": {
    "name": "ipython",
    "version": 2
   },
   "file_extension": ".py",
   "mimetype": "text/x-python",
   "name": "python",
   "nbconvert_exporter": "python",
   "pygments_lexer": "ipython2",
   "version": "2.7.11"
  }
 },
 "nbformat": 4,
 "nbformat_minor": 0
}
