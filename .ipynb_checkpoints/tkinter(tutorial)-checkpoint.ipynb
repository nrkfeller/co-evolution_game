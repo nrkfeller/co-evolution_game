{
 "cells": [
  {
   "cell_type": "code",
   "execution_count": 1,
   "metadata": {
    "collapsed": true
   },
   "outputs": [],
   "source": [
    "# TCL TK WAPPER = Tkinter"
   ]
  },
  {
   "cell_type": "code",
   "execution_count": 45,
   "metadata": {
    "collapsed": false
   },
   "outputs": [],
   "source": [
    "import tkinter as tk\n",
    "from tkinter import ttk\n",
    "\n",
    "import matplotlib\n",
    "matplotlib.use(\"TkAgg\")\n",
    "from matplotlib.backends.backend_tkagg import FigureCanvasTkAgg, NavigationToolbar2TkAgg\n",
    "from matplotlib.figure import Figure\n",
    "import matplotlib.animation as animation\n",
    "from matplotlib import style\n",
    "\n",
    "matplotlib.use(\"TkAgg\")\n",
    "\n",
    "\n",
    "LARGE_FONT = (\"Verdana\", 12)\n",
    "style.use(\"ggplot\")"
   ]
  },
  {
   "cell_type": "code",
   "execution_count": null,
   "metadata": {
    "collapsed": true
   },
   "outputs": [],
   "source": [
    "def animate(i):\n",
    "    pullData = open('sampleText.txt','r').read()\n",
    "    dataArray = pullData.split('\\n')\n",
    "    xar=[]\n",
    "    yar=[]\n",
    "    for eachLine in dataArray:\n",
    "        if len(eachLine)>1:\n",
    "            x,y = eachLine.split(',')\n",
    "            xar.append(int(x))\n",
    "            yar.append(int(y))\n",
    "    a.clear()\n",
    "    a.plot(xar,yar)"
   ]
  },
  {
   "cell_type": "code",
   "execution_count": 50,
   "metadata": {
    "collapsed": false
   },
   "outputs": [],
   "source": [
    "class SeaofBTCapp(tk.Tk):\n",
    "\n",
    "    def __init__(self, *args, **kwargs):\n",
    "        \n",
    "        tk.Tk.__init__(self, *args, **kwargs)\n",
    "        \n",
    "        tk.Tk.wm_title(self, \"Simulator\")\n",
    "        \n",
    "        container = tk.Frame(self)\n",
    "        container.pack(side=\"top\", fill=\"both\", expand = True)\n",
    "        container.grid_rowconfigure(0, weight=1)\n",
    "        container.grid_columnconfigure(0, weight=1)\n",
    "\n",
    "        self.frames = {}\n",
    "\n",
    "        for F in (StartPage, PageOne, PageTwo, PageThree):\n",
    "\n",
    "            frame = F(container, self)\n",
    "\n",
    "            self.frames[F] = frame\n",
    "\n",
    "            frame.grid(row=0, column=0, sticky=\"nsew\")\n",
    "\n",
    "        self.show_frame(StartPage)\n",
    "\n",
    "    def show_frame(self, cont):\n",
    "\n",
    "        frame = self.frames[cont]\n",
    "        frame.tkraise()\n",
    "\n",
    "        \n",
    "class StartPage(tk.Frame):\n",
    "\n",
    "    def __init__(self, parent, controller):\n",
    "        tk.Frame.__init__(self,parent)\n",
    "        label = tk.Label(self, text=\"Start Page\", font=LARGE_FONT)\n",
    "        label.pack(pady=10,padx=10)\n",
    "\n",
    "        button = ttk.Button(self, text=\"Visit Page 1\",\n",
    "                            command=lambda: controller.show_frame(PageOne))\n",
    "        button.pack()\n",
    "\n",
    "        button2 = ttk.Button(self, text=\"Visit Page 2\",\n",
    "                            command=lambda: controller.show_frame(PageTwo))\n",
    "        button2.pack()\n",
    "\n",
    "        button3 = ttk.Button(self, text=\"Visit Page 3\",\n",
    "                            command=lambda: controller.show_frame(PageThree))\n",
    "        button3.pack()\n",
    "\n",
    "\n",
    "class PageOne(tk.Frame):\n",
    "\n",
    "    def __init__(self, parent, controller):\n",
    "        tk.Frame.__init__(self, parent)\n",
    "        label = tk.Label(self, text=\"Page One\", font=LARGE_FONT)\n",
    "        label.pack(pady=10,padx=10)\n",
    "\n",
    "        button1 = ttk.Button(self, text=\"Back to Home\",\n",
    "                            command=lambda: controller.show_frame(StartPage))\n",
    "        button1.pack()\n",
    "\n",
    "        button2 = ttk.Button(self, text=\"Page Two\",\n",
    "                            command=lambda: controller.show_frame(PageTwo))\n",
    "        button2.pack()\n",
    "\n",
    "\n",
    "class PageTwo(tk.Frame):\n",
    "\n",
    "    def __init__(self, parent, controller):\n",
    "        tk.Frame.__init__(self, parent)\n",
    "        label = tk.Label(self, text=\"Page Two\", font=LARGE_FONT)\n",
    "        label.pack(pady=10,padx=10)\n",
    "\n",
    "        button1 = ttk.Button(self, text=\"Back to Home\",\n",
    "                            command=lambda: controller.show_frame(StartPage))\n",
    "        button1.pack()\n",
    "\n",
    "        button2 = ttk.Button(self, text=\"Page One\",\n",
    "                            command=lambda: controller.show_frame(PageOne))\n",
    "        button2.pack()\n",
    "        \n",
    "class PageThree(tk.Frame):\n",
    "\n",
    "    def __init__(self, parent, controller):\n",
    "        tk.Frame.__init__(self, parent)\n",
    "        label = tk.Label(self, text=\"Graph Page\", font=LARGE_FONT)\n",
    "        label.pack(pady=10,padx=10)\n",
    "\n",
    "        button1 = ttk.Button(self, text=\"Back to Home\",\n",
    "                            command=lambda: controller.show_frame(StartPage))\n",
    "        button1.pack()\n",
    "\n",
    "        f = Figure(figsize=(5,5), dpi = 100)\n",
    "        a = f.add_subplot(111)\n",
    "        a.plot([3,4,5,6,7,8,4,2])\n",
    "        a.plot([9,8,7,6,5,4,6,8])\n",
    "        \n",
    "        #plt.show()\n",
    "        \n",
    "        canvas = FigureCanvasTkAgg(f, self)\n",
    "        canvas.show()\n",
    "        canvas.get_tk_widget().pack(side = tk.TOP, fill = tk.BOTH, expand = True)\n",
    "        \n",
    "        toolbar = NavigationToolbar2TkAgg(canvas, self)\n",
    "        toolbar.update()\n",
    "        toolbar.pack()"
   ]
  },
  {
   "cell_type": "code",
   "execution_count": 51,
   "metadata": {
    "collapsed": false
   },
   "outputs": [],
   "source": [
    "app = SeaofBTCapp()\n",
    "app.mainloop()"
   ]
  },
  {
   "cell_type": "code",
   "execution_count": null,
   "metadata": {
    "collapsed": false
   },
   "outputs": [],
   "source": [
    "     "
   ]
  },
  {
   "cell_type": "code",
   "execution_count": null,
   "metadata": {
    "collapsed": true
   },
   "outputs": [],
   "source": []
  },
  {
   "cell_type": "code",
   "execution_count": null,
   "metadata": {
    "collapsed": false
   },
   "outputs": [],
   "source": []
  },
  {
   "cell_type": "code",
   "execution_count": null,
   "metadata": {
    "collapsed": true
   },
   "outputs": [],
   "source": []
  }
 ],
 "metadata": {
  "kernelspec": {
   "display_name": "Python 3",
   "language": "python",
   "name": "python3"
  },
  "language_info": {
   "codemirror_mode": {
    "name": "ipython",
    "version": 3
   },
   "file_extension": ".py",
   "mimetype": "text/x-python",
   "name": "python",
   "nbconvert_exporter": "python",
   "pygments_lexer": "ipython3",
   "version": "3.5.1"
  }
 },
 "nbformat": 4,
 "nbformat_minor": 0
}
